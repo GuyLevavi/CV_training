{
 "cells": [
  {
   "metadata": {},
   "cell_type": "markdown",
   "source": "# Exploring the Azrieli & Sons Data",
   "id": "17be9571f38baac"
  },
  {
   "metadata": {},
   "cell_type": "markdown",
   "source": "## Libraries and data loading",
   "id": "f2b5c54f9726256d"
  },
  {
   "cell_type": "code",
   "id": "initial_id",
   "metadata": {
    "collapsed": true,
    "ExecuteTime": {
     "end_time": "2025-05-13T07:16:58.384597Z",
     "start_time": "2025-05-13T07:16:57.022953Z"
    }
   },
   "source": [
    "import os\n",
    "import pandas as pd\n",
    "import numpy as np\n",
    "import matplotlib.pyplot as plt"
   ],
   "outputs": [],
   "execution_count": 1
  },
  {
   "metadata": {},
   "cell_type": "markdown",
   "source": "## Looking for problems in the data",
   "id": "9aadd76475e1677e"
  },
  {
   "metadata": {
    "ExecuteTime": {
     "end_time": "2025-05-13T09:54:54.413204Z",
     "start_time": "2025-05-13T09:54:54.365506Z"
    }
   },
   "cell_type": "code",
   "source": [
    "def calc_nan_df(df):\n",
    "    nan_summary = df.isna().sum()\n",
    "    nan_summary = nan_summary[nan_summary > 0].sort_values(ascending=False)\n",
    "    nan_summary = nan_summary.reset_index()\n",
    "    nan_summary.columns = ['Column', 'NaN Count']\n",
    "    nan_summary['NaN Ratio'] = np.round(nan_summary['NaN Count'] / df.shape[0],2)\n",
    "    return nan_summary\n",
    "\n",
    "data_path = r'C:\\Users\\user\\Desktop\\CV Training Guy\\CV_training\\basic\\python\\Basic - Azrieli & Sons data'\n",
    "old_drivers_df = pd.read_csv(os.path.join(data_path, 'Drivers_with_kviut.csv'))\n",
    "new_drivers_df = pd.read_csv(os.path.join(data_path, 'new_drivers.csv'))\n",
    "taarif_df = pd.read_csv(os.path.join(data_path, 'taarif.csv'))\n",
    "trips_data_list = os.listdir(os.path.join(data_path, 'trips_data'))"
   ],
   "id": "31008df09725d94c",
   "outputs": [],
   "execution_count": 51
  },
  {
   "metadata": {},
   "cell_type": "markdown",
   "source": "### Drivers, old and new",
   "id": "e5b2554c7631bd9e"
  },
  {
   "metadata": {
    "ExecuteTime": {
     "end_time": "2025-05-13T07:16:58.691834Z",
     "start_time": "2025-05-13T07:16:58.675210Z"
    }
   },
   "cell_type": "code",
   "source": "new_drivers_df",
   "id": "d40f49022d63803",
   "outputs": [
    {
     "data": {
      "text/plain": [
       "    Unnamed: 0          birthdate gender   id  vetek\n",
       "0            0         19.06.1967      F  943  232.0\n",
       "1            1  february 13, 1979      M  966   28.0\n",
       "2            2         19/11/1993      M  250   48.0\n",
       "3            3         02/02/1961    NaN  156  272.0\n",
       "4            4         07/03/1965      M   67  130.0\n",
       "..         ...                ...    ...  ...    ...\n",
       "95          95         16/08/1990      M  798  144.0\n",
       "96          96         05/06/1967      M  865  103.0\n",
       "97          97         02/10/1972      M  399  312.0\n",
       "98          98         16/03/1979      M  509  172.0\n",
       "99          99         27/10/1977      M  308  324.0\n",
       "\n",
       "[100 rows x 5 columns]"
      ],
      "text/html": [
       "<div>\n",
       "<style scoped>\n",
       "    .dataframe tbody tr th:only-of-type {\n",
       "        vertical-align: middle;\n",
       "    }\n",
       "\n",
       "    .dataframe tbody tr th {\n",
       "        vertical-align: top;\n",
       "    }\n",
       "\n",
       "    .dataframe thead th {\n",
       "        text-align: right;\n",
       "    }\n",
       "</style>\n",
       "<table border=\"1\" class=\"dataframe\">\n",
       "  <thead>\n",
       "    <tr style=\"text-align: right;\">\n",
       "      <th></th>\n",
       "      <th>Unnamed: 0</th>\n",
       "      <th>birthdate</th>\n",
       "      <th>gender</th>\n",
       "      <th>id</th>\n",
       "      <th>vetek</th>\n",
       "    </tr>\n",
       "  </thead>\n",
       "  <tbody>\n",
       "    <tr>\n",
       "      <th>0</th>\n",
       "      <td>0</td>\n",
       "      <td>19.06.1967</td>\n",
       "      <td>F</td>\n",
       "      <td>943</td>\n",
       "      <td>232.0</td>\n",
       "    </tr>\n",
       "    <tr>\n",
       "      <th>1</th>\n",
       "      <td>1</td>\n",
       "      <td>february 13, 1979</td>\n",
       "      <td>M</td>\n",
       "      <td>966</td>\n",
       "      <td>28.0</td>\n",
       "    </tr>\n",
       "    <tr>\n",
       "      <th>2</th>\n",
       "      <td>2</td>\n",
       "      <td>19/11/1993</td>\n",
       "      <td>M</td>\n",
       "      <td>250</td>\n",
       "      <td>48.0</td>\n",
       "    </tr>\n",
       "    <tr>\n",
       "      <th>3</th>\n",
       "      <td>3</td>\n",
       "      <td>02/02/1961</td>\n",
       "      <td>NaN</td>\n",
       "      <td>156</td>\n",
       "      <td>272.0</td>\n",
       "    </tr>\n",
       "    <tr>\n",
       "      <th>4</th>\n",
       "      <td>4</td>\n",
       "      <td>07/03/1965</td>\n",
       "      <td>M</td>\n",
       "      <td>67</td>\n",
       "      <td>130.0</td>\n",
       "    </tr>\n",
       "    <tr>\n",
       "      <th>...</th>\n",
       "      <td>...</td>\n",
       "      <td>...</td>\n",
       "      <td>...</td>\n",
       "      <td>...</td>\n",
       "      <td>...</td>\n",
       "    </tr>\n",
       "    <tr>\n",
       "      <th>95</th>\n",
       "      <td>95</td>\n",
       "      <td>16/08/1990</td>\n",
       "      <td>M</td>\n",
       "      <td>798</td>\n",
       "      <td>144.0</td>\n",
       "    </tr>\n",
       "    <tr>\n",
       "      <th>96</th>\n",
       "      <td>96</td>\n",
       "      <td>05/06/1967</td>\n",
       "      <td>M</td>\n",
       "      <td>865</td>\n",
       "      <td>103.0</td>\n",
       "    </tr>\n",
       "    <tr>\n",
       "      <th>97</th>\n",
       "      <td>97</td>\n",
       "      <td>02/10/1972</td>\n",
       "      <td>M</td>\n",
       "      <td>399</td>\n",
       "      <td>312.0</td>\n",
       "    </tr>\n",
       "    <tr>\n",
       "      <th>98</th>\n",
       "      <td>98</td>\n",
       "      <td>16/03/1979</td>\n",
       "      <td>M</td>\n",
       "      <td>509</td>\n",
       "      <td>172.0</td>\n",
       "    </tr>\n",
       "    <tr>\n",
       "      <th>99</th>\n",
       "      <td>99</td>\n",
       "      <td>27/10/1977</td>\n",
       "      <td>M</td>\n",
       "      <td>308</td>\n",
       "      <td>324.0</td>\n",
       "    </tr>\n",
       "  </tbody>\n",
       "</table>\n",
       "<p>100 rows × 5 columns</p>\n",
       "</div>"
      ]
     },
     "execution_count": 3,
     "metadata": {},
     "output_type": "execute_result"
    }
   ],
   "execution_count": 3
  },
  {
   "metadata": {},
   "cell_type": "markdown",
   "source": [
    "First column (id) is redundant.\n",
    "\n",
    "Second column (date) has different formats, which should be unified.\n",
    "\n",
    "Third column (male) as above, some missing values as well. Should we keep unknown as a category or remove it? ASK\n",
    "\n",
    "Rest seems ok."
   ],
   "id": "d5b4440c58056a06"
  },
  {
   "metadata": {
    "ExecuteTime": {
     "end_time": "2025-05-13T09:55:20.522451Z",
     "start_time": "2025-05-13T09:55:20.507385Z"
    }
   },
   "cell_type": "code",
   "source": "calc_nan_df(new_drivers_df)",
   "id": "c05571577345c1e5",
   "outputs": [
    {
     "data": {
      "text/plain": [
       "   Column  NaN Count  NaN Ratio\n",
       "0  gender          3       0.03"
      ],
      "text/html": [
       "<div>\n",
       "<style scoped>\n",
       "    .dataframe tbody tr th:only-of-type {\n",
       "        vertical-align: middle;\n",
       "    }\n",
       "\n",
       "    .dataframe tbody tr th {\n",
       "        vertical-align: top;\n",
       "    }\n",
       "\n",
       "    .dataframe thead th {\n",
       "        text-align: right;\n",
       "    }\n",
       "</style>\n",
       "<table border=\"1\" class=\"dataframe\">\n",
       "  <thead>\n",
       "    <tr style=\"text-align: right;\">\n",
       "      <th></th>\n",
       "      <th>Column</th>\n",
       "      <th>NaN Count</th>\n",
       "      <th>NaN Ratio</th>\n",
       "    </tr>\n",
       "  </thead>\n",
       "  <tbody>\n",
       "    <tr>\n",
       "      <th>0</th>\n",
       "      <td>gender</td>\n",
       "      <td>3</td>\n",
       "      <td>0.03</td>\n",
       "    </tr>\n",
       "  </tbody>\n",
       "</table>\n",
       "</div>"
      ]
     },
     "execution_count": 52,
     "metadata": {},
     "output_type": "execute_result"
    }
   ],
   "execution_count": 52
  },
  {
   "metadata": {
    "ExecuteTime": {
     "end_time": "2025-05-13T10:41:57.199307Z",
     "start_time": "2025-05-13T10:41:57.174940Z"
    }
   },
   "cell_type": "code",
   "source": "old_drivers_df['gender'].value_counts()",
   "id": "af5c78cbaa67173e",
   "outputs": [
    {
     "data": {
      "text/plain": [
       "gender\n",
       "M          674\n",
       "male        63\n",
       "boy         37\n",
       "unknown     37\n",
       "m           36\n",
       "F           17\n",
       "female      10\n",
       "girl         6\n",
       "none         4\n",
       "woman        3\n",
       "Name: count, dtype: int64"
      ]
     },
     "execution_count": 57,
     "metadata": {},
     "output_type": "execute_result"
    }
   ],
   "execution_count": 57
  },
  {
   "metadata": {},
   "cell_type": "markdown",
   "source": [
    "Note that the vetek in the new drivers column is measured probably in days while in the old drivers column it is measured in years, should be unified.\n",
    "\n",
    "Similar problems with the columns mentioned above."
   ],
   "id": "510a55ed85c42673"
  },
  {
   "metadata": {
    "ExecuteTime": {
     "end_time": "2025-05-13T09:55:43.635829Z",
     "start_time": "2025-05-13T09:55:43.625348Z"
    }
   },
   "cell_type": "code",
   "source": "calc_nan_df(old_drivers_df)",
   "id": "3f1e0b20700113d7",
   "outputs": [
    {
     "data": {
      "text/plain": [
       "      Column  NaN Count  NaN Ratio\n",
       "0     gender         13       0.01\n",
       "1  birthdate         10       0.01"
      ],
      "text/html": [
       "<div>\n",
       "<style scoped>\n",
       "    .dataframe tbody tr th:only-of-type {\n",
       "        vertical-align: middle;\n",
       "    }\n",
       "\n",
       "    .dataframe tbody tr th {\n",
       "        vertical-align: top;\n",
       "    }\n",
       "\n",
       "    .dataframe thead th {\n",
       "        text-align: right;\n",
       "    }\n",
       "</style>\n",
       "<table border=\"1\" class=\"dataframe\">\n",
       "  <thead>\n",
       "    <tr style=\"text-align: right;\">\n",
       "      <th></th>\n",
       "      <th>Column</th>\n",
       "      <th>NaN Count</th>\n",
       "      <th>NaN Ratio</th>\n",
       "    </tr>\n",
       "  </thead>\n",
       "  <tbody>\n",
       "    <tr>\n",
       "      <th>0</th>\n",
       "      <td>gender</td>\n",
       "      <td>13</td>\n",
       "      <td>0.01</td>\n",
       "    </tr>\n",
       "    <tr>\n",
       "      <th>1</th>\n",
       "      <td>birthdate</td>\n",
       "      <td>10</td>\n",
       "      <td>0.01</td>\n",
       "    </tr>\n",
       "  </tbody>\n",
       "</table>\n",
       "</div>"
      ]
     },
     "execution_count": 53,
     "metadata": {},
     "output_type": "execute_result"
    }
   ],
   "execution_count": 53
  },
  {
   "metadata": {
    "ExecuteTime": {
     "end_time": "2025-05-13T08:04:38.709865Z",
     "start_time": "2025-05-13T08:04:38.698664Z"
    }
   },
   "cell_type": "code",
   "source": [
    "old_ids = old_drivers_df['id'].unique()\n",
    "new_ids = new_drivers_df['id'].unique()\n",
    "# intersect\n",
    "common_ids = np.intersect1d(old_ids, new_ids)\n",
    "common_ids"
   ],
   "id": "d9e06019686367a9",
   "outputs": [
    {
     "data": {
      "text/plain": [
       "array([], dtype=int64)"
      ]
     },
     "execution_count": 22,
     "metadata": {},
     "output_type": "execute_result"
    }
   ],
   "execution_count": 22
  },
  {
   "metadata": {},
   "cell_type": "markdown",
   "source": "### Salary",
   "id": "73c1eea01635475b"
  },
  {
   "metadata": {
    "ExecuteTime": {
     "end_time": "2025-05-13T07:17:11.640713Z",
     "start_time": "2025-05-13T07:17:11.625093Z"
    }
   },
   "cell_type": "code",
   "source": "taarif_df",
   "id": "a9458d486eaea6ac",
   "outputs": [
    {
     "data": {
      "text/plain": [
       "                 customer  basic_taarif  extra_milage  night_bonus  \\\n",
       "0                     NaN           NaN           NaN          NaN   \n",
       "1          jerusalem_muni           8.0          40.0         50.0   \n",
       "2                   intel           8.0           6.0         20.0   \n",
       "3      mizranei_kfar_saba          15.0           4.0          0.0   \n",
       "4                     dbs          10.0           8.0          0.0   \n",
       "5                   tnuva           6.0           3.0         80.0   \n",
       "6                   angel           1.0           5.0        100.0   \n",
       "7   telecommunication_ltd           7.0           7.0         10.0   \n",
       "8                    osem          12.0           4.0         20.0   \n",
       "9                     iaf          20.0          10.0        200.0   \n",
       "10                   tara           6.0           6.0         50.0   \n",
       "11            electricity          10.0           NaN         40.0   \n",
       "12           bituch_leumi           NaN           NaN          NaN   \n",
       "\n",
       "    weekend_bonus  \n",
       "0             NaN  \n",
       "1            30.0  \n",
       "2             0.0  \n",
       "3            25.0  \n",
       "4            25.0  \n",
       "5             0.0  \n",
       "6             0.0  \n",
       "7            40.0  \n",
       "8             0.0  \n",
       "9           500.0  \n",
       "10           30.0  \n",
       "11        70000.0  \n",
       "12            NaN  "
      ],
      "text/html": [
       "<div>\n",
       "<style scoped>\n",
       "    .dataframe tbody tr th:only-of-type {\n",
       "        vertical-align: middle;\n",
       "    }\n",
       "\n",
       "    .dataframe tbody tr th {\n",
       "        vertical-align: top;\n",
       "    }\n",
       "\n",
       "    .dataframe thead th {\n",
       "        text-align: right;\n",
       "    }\n",
       "</style>\n",
       "<table border=\"1\" class=\"dataframe\">\n",
       "  <thead>\n",
       "    <tr style=\"text-align: right;\">\n",
       "      <th></th>\n",
       "      <th>customer</th>\n",
       "      <th>basic_taarif</th>\n",
       "      <th>extra_milage</th>\n",
       "      <th>night_bonus</th>\n",
       "      <th>weekend_bonus</th>\n",
       "    </tr>\n",
       "  </thead>\n",
       "  <tbody>\n",
       "    <tr>\n",
       "      <th>0</th>\n",
       "      <td>NaN</td>\n",
       "      <td>NaN</td>\n",
       "      <td>NaN</td>\n",
       "      <td>NaN</td>\n",
       "      <td>NaN</td>\n",
       "    </tr>\n",
       "    <tr>\n",
       "      <th>1</th>\n",
       "      <td>jerusalem_muni</td>\n",
       "      <td>8.0</td>\n",
       "      <td>40.0</td>\n",
       "      <td>50.0</td>\n",
       "      <td>30.0</td>\n",
       "    </tr>\n",
       "    <tr>\n",
       "      <th>2</th>\n",
       "      <td>intel</td>\n",
       "      <td>8.0</td>\n",
       "      <td>6.0</td>\n",
       "      <td>20.0</td>\n",
       "      <td>0.0</td>\n",
       "    </tr>\n",
       "    <tr>\n",
       "      <th>3</th>\n",
       "      <td>mizranei_kfar_saba</td>\n",
       "      <td>15.0</td>\n",
       "      <td>4.0</td>\n",
       "      <td>0.0</td>\n",
       "      <td>25.0</td>\n",
       "    </tr>\n",
       "    <tr>\n",
       "      <th>4</th>\n",
       "      <td>dbs</td>\n",
       "      <td>10.0</td>\n",
       "      <td>8.0</td>\n",
       "      <td>0.0</td>\n",
       "      <td>25.0</td>\n",
       "    </tr>\n",
       "    <tr>\n",
       "      <th>5</th>\n",
       "      <td>tnuva</td>\n",
       "      <td>6.0</td>\n",
       "      <td>3.0</td>\n",
       "      <td>80.0</td>\n",
       "      <td>0.0</td>\n",
       "    </tr>\n",
       "    <tr>\n",
       "      <th>6</th>\n",
       "      <td>angel</td>\n",
       "      <td>1.0</td>\n",
       "      <td>5.0</td>\n",
       "      <td>100.0</td>\n",
       "      <td>0.0</td>\n",
       "    </tr>\n",
       "    <tr>\n",
       "      <th>7</th>\n",
       "      <td>telecommunication_ltd</td>\n",
       "      <td>7.0</td>\n",
       "      <td>7.0</td>\n",
       "      <td>10.0</td>\n",
       "      <td>40.0</td>\n",
       "    </tr>\n",
       "    <tr>\n",
       "      <th>8</th>\n",
       "      <td>osem</td>\n",
       "      <td>12.0</td>\n",
       "      <td>4.0</td>\n",
       "      <td>20.0</td>\n",
       "      <td>0.0</td>\n",
       "    </tr>\n",
       "    <tr>\n",
       "      <th>9</th>\n",
       "      <td>iaf</td>\n",
       "      <td>20.0</td>\n",
       "      <td>10.0</td>\n",
       "      <td>200.0</td>\n",
       "      <td>500.0</td>\n",
       "    </tr>\n",
       "    <tr>\n",
       "      <th>10</th>\n",
       "      <td>tara</td>\n",
       "      <td>6.0</td>\n",
       "      <td>6.0</td>\n",
       "      <td>50.0</td>\n",
       "      <td>30.0</td>\n",
       "    </tr>\n",
       "    <tr>\n",
       "      <th>11</th>\n",
       "      <td>electricity</td>\n",
       "      <td>10.0</td>\n",
       "      <td>NaN</td>\n",
       "      <td>40.0</td>\n",
       "      <td>70000.0</td>\n",
       "    </tr>\n",
       "    <tr>\n",
       "      <th>12</th>\n",
       "      <td>bituch_leumi</td>\n",
       "      <td>NaN</td>\n",
       "      <td>NaN</td>\n",
       "      <td>NaN</td>\n",
       "      <td>NaN</td>\n",
       "    </tr>\n",
       "  </tbody>\n",
       "</table>\n",
       "</div>"
      ]
     },
     "execution_count": 5,
     "metadata": {},
     "output_type": "execute_result"
    }
   ],
   "execution_count": 5
  },
  {
   "metadata": {},
   "cell_type": "markdown",
   "source": [
    "First row is just NaNs.\n",
    "\n",
    "**Electricity** - missing data in extra milage (really missing or meant 0.0?), abnormal weekend bonus. ASK\n",
    "\n",
    "**Bituch Leumi** - all data is missing. ASK"
   ],
   "id": "36415b4c824d10b0"
  },
  {
   "metadata": {},
   "cell_type": "markdown",
   "source": "### Trips",
   "id": "4bf0169280ee4844"
  },
  {
   "metadata": {},
   "cell_type": "markdown",
   "source": "Now for the trips data, noticed there are some duplicate files, meaning files with the same name (the duplicate usually denoted with and appended '(2)' after the file name).",
   "id": "125dd056ca0d8895"
  },
  {
   "metadata": {
    "ExecuteTime": {
     "end_time": "2025-05-13T07:17:14.109697Z",
     "start_time": "2025-05-13T07:17:14.091442Z"
    }
   },
   "cell_type": "code",
   "source": [
    "trips_data_duplicates_list = [trip.split('.')[0] for trip in trips_data_list if '(' in trip]\n",
    "whats_inside_parentheses = np.unique([trip.split('(')[1].split(')')[0] for trip in trips_data_duplicates_list])"
   ],
   "id": "982b71a6e813885b",
   "outputs": [],
   "execution_count": 6
  },
  {
   "metadata": {
    "ExecuteTime": {
     "end_time": "2025-05-13T07:17:26.515465Z",
     "start_time": "2025-05-13T07:17:26.506629Z"
    }
   },
   "cell_type": "code",
   "source": "trips_data_duplicates_list",
   "id": "f1386e21e8fb35b5",
   "outputs": [
    {
     "data": {
      "text/plain": [
       "['april 2015_4781355(2)',\n",
       " 'april 2015_4781424(2)',\n",
       " 'april 2015_4781442(2)',\n",
       " 'april 2015_4781451(2)',\n",
       " 'april 2015_4781460(2)',\n",
       " 'april 2015_4781495(2)',\n",
       " 'april 2015_4781695(2)',\n",
       " 'april 2015_4781849(2)',\n",
       " 'august 2015_4781463(2)',\n",
       " 'august 2015_4781591(2)',\n",
       " 'august 2015_4781734(2)',\n",
       " 'august 2015_4781737(2)',\n",
       " 'august 2015_4781747(2)',\n",
       " 'august 2015_4781800(2)',\n",
       " 'december 2015_4781471(2)',\n",
       " 'december 2015_4781525(2)',\n",
       " 'december 2015_4781545(2)',\n",
       " 'december 2015_4781631(2)',\n",
       " 'december 2015_4781759(2)',\n",
       " 'december 2015_4781798(2)',\n",
       " 'february 2015_4781400(2)',\n",
       " 'february 2015_4781409(2)',\n",
       " 'february 2015_4781426(2)',\n",
       " 'february 2015_4781469(2)',\n",
       " 'february 2015_4781473(2)',\n",
       " 'february 2015_4781520(2)',\n",
       " 'february 2015_4781525(2)',\n",
       " 'february 2015_4781551(2)',\n",
       " 'february 2015_4781602(2)',\n",
       " 'february 2015_4781654(2)',\n",
       " 'february 2015_4781710(2)',\n",
       " 'february 2015_4781723(2)',\n",
       " 'february 2015_4781848(2)',\n",
       " 'january 2015_4781374(2)',\n",
       " 'january 2015_4781477(2)',\n",
       " 'january 2015_4781505(2)',\n",
       " 'january 2015_4781669(2)',\n",
       " 'january 2015_4781684(2)',\n",
       " 'january 2015_4781707(2)',\n",
       " 'january 2015_4781714(2)',\n",
       " 'january 2015_4781753(2)',\n",
       " 'january 2015_4781830(2)',\n",
       " 'january 2015_4781850(2)',\n",
       " 'july 2015_4781505(2)',\n",
       " 'july 2015_4781526(2)',\n",
       " 'july 2015_4781547(2)',\n",
       " 'july 2015_4781581(2)',\n",
       " 'july 2015_4781592(2)',\n",
       " 'july 2015_4781603(2)',\n",
       " 'july 2015_4781671(2)',\n",
       " 'july 2015_4781672(2)',\n",
       " 'july 2015_4781707(2)',\n",
       " 'july 2015_4781755(2)',\n",
       " 'june 2015_4781444(2)',\n",
       " 'june 2015_4781471(2)',\n",
       " 'june 2015_4781550(2)',\n",
       " 'june 2015_4781658(2)',\n",
       " 'june 2015_4781783(2)',\n",
       " 'march 2015_4781393(2)',\n",
       " 'march 2015_4781418(2)',\n",
       " 'march 2015_4781431(2)',\n",
       " 'march 2015_4781508(2)',\n",
       " 'march 2015_4781515(2)',\n",
       " 'march 2015_4781535(2)',\n",
       " 'march 2015_4781574(2)',\n",
       " 'march 2015_4781626(2)',\n",
       " 'march 2015_4781640(2)',\n",
       " 'march 2015_4781683(2)',\n",
       " 'march 2015_4781738(2)',\n",
       " 'march 2015_4781750(2)',\n",
       " 'may 2015_4781461(2)',\n",
       " 'may 2015_4781489(2)',\n",
       " 'may 2015_4781523(2)',\n",
       " 'may 2015_4781620(2)',\n",
       " 'may 2015_4781628(2)',\n",
       " 'may 2015_4781748(2)',\n",
       " 'may 2015_4781769(2)',\n",
       " 'november 2015_4781387(2)',\n",
       " 'november 2015_4781391(2)',\n",
       " 'november 2015_4781403(2)',\n",
       " 'november 2015_4781430(2)',\n",
       " 'november 2015_4781438(2)',\n",
       " 'november 2015_4781473(2)',\n",
       " 'november 2015_4781483(2)',\n",
       " 'november 2015_4781492(2)',\n",
       " 'november 2015_4781567(2)',\n",
       " 'november 2015_4781574(2)',\n",
       " 'november 2015_4781633(2)',\n",
       " 'november 2015_4781684(2)',\n",
       " 'november 2015_4781685(2)',\n",
       " 'november 2015_4781714(2)',\n",
       " 'november 2015_4781804(2)',\n",
       " 'october 2015_4781373(2)',\n",
       " 'october 2015_4781377(2)',\n",
       " 'october 2015_4781407(2)',\n",
       " 'october 2015_4781435(2)',\n",
       " 'october 2015_4781477(2)',\n",
       " 'october 2015_4781565(2)',\n",
       " 'october 2015_4781615(2)',\n",
       " 'october 2015_4781720(2)',\n",
       " 'september 2015_4781421(2)',\n",
       " 'september 2015_4781473(2)',\n",
       " 'september 2015_4781487(2)',\n",
       " 'september 2015_4781541(2)',\n",
       " 'september 2015_4781546(2)',\n",
       " 'september 2015_4781582(2)',\n",
       " 'september 2015_4781595(2)',\n",
       " 'september 2015_4781601(2)',\n",
       " 'september 2015_4781686(2)',\n",
       " 'september 2015_4781755(2)',\n",
       " 'september 2015_4781771(2)']"
      ]
     },
     "execution_count": 7,
     "metadata": {},
     "output_type": "execute_result"
    }
   ],
   "execution_count": 7
  },
  {
   "metadata": {
    "ExecuteTime": {
     "end_time": "2025-05-13T07:27:32.587942Z",
     "start_time": "2025-05-13T07:27:32.581181Z"
    }
   },
   "cell_type": "code",
   "source": "round(len(trips_data_duplicates_list) / len(trips_data_list), 2)",
   "id": "1e41047135faef05",
   "outputs": [
    {
     "data": {
      "text/plain": [
       "0.02"
      ]
     },
     "execution_count": 20,
     "metadata": {},
     "output_type": "execute_result"
    }
   ],
   "execution_count": 20
  },
  {
   "metadata": {},
   "cell_type": "markdown",
   "source": "2 percent of the files are duplicates, can't ignore that. Let's see what is inside the parentheses, i.e. if the duplicate denoter is always '(2)'.",
   "id": "23043fd221dca88"
  },
  {
   "metadata": {
    "ExecuteTime": {
     "end_time": "2025-05-13T07:17:31.150267Z",
     "start_time": "2025-05-13T07:17:31.141577Z"
    }
   },
   "cell_type": "code",
   "source": "whats_inside_parentheses",
   "id": "1c993f4922df9d3b",
   "outputs": [
    {
     "data": {
      "text/plain": [
       "array(['2'], dtype='<U1')"
      ]
     },
     "execution_count": 8,
     "metadata": {},
     "output_type": "execute_result"
    }
   ],
   "execution_count": 8
  },
  {
   "metadata": {},
   "cell_type": "markdown",
   "source": "Thus duplicates are always denoted with a postfix of (2). Let see if there is a pattern to the duplicates, compared to the original files.",
   "id": "a708564116100345"
  },
  {
   "metadata": {
    "ExecuteTime": {
     "end_time": "2025-05-13T07:23:02.842480Z",
     "start_time": "2025-05-13T07:23:02.229070Z"
    }
   },
   "cell_type": "code",
   "source": [
    "original_duplicate_tuples = [(x.split('(')[0] + '.csv', x + '.csv') for x in trips_data_duplicates_list]\n",
    "# convert each path to dataframe and check if they are the same in each tuple\n",
    "tuple_df = []\n",
    "equal_array = []\n",
    "for original, duplicate in original_duplicate_tuples:\n",
    "    original_df = pd.read_csv(os.path.join(data_path, 'trips_data', original))\n",
    "    duplicate_df = pd.read_csv(os.path.join(data_path, 'trips_data', duplicate))\n",
    "    tuple_df.append((original_df, duplicate_df))\n",
    "    # check if the dataframes are the same\n",
    "    equal_array.append(original_df.equals(duplicate_df))"
   ],
   "id": "601af9e08e4af763",
   "outputs": [],
   "execution_count": 10
  },
  {
   "metadata": {
    "ExecuteTime": {
     "end_time": "2025-05-13T07:23:36.978660Z",
     "start_time": "2025-05-13T07:23:36.967283Z"
    }
   },
   "cell_type": "code",
   "source": "sum(equal_array)",
   "id": "a6f35d6cd28dc082",
   "outputs": [
    {
     "data": {
      "text/plain": [
       "111"
      ]
     },
     "execution_count": 13,
     "metadata": {},
     "output_type": "execute_result"
    }
   ],
   "execution_count": 13
  },
  {
   "metadata": {
    "ExecuteTime": {
     "end_time": "2025-05-13T07:23:57.984035Z",
     "start_time": "2025-05-13T07:23:57.976274Z"
    }
   },
   "cell_type": "code",
   "source": "sum(equal_array) / len(equal_array)",
   "id": "e4fcd5c631c9c1d9",
   "outputs": [
    {
     "data": {
      "text/plain": [
       "1.0"
      ]
     },
     "execution_count": 15,
     "metadata": {},
     "output_type": "execute_result"
    }
   ],
   "execution_count": 15
  },
  {
   "metadata": {},
   "cell_type": "markdown",
   "source": [
    "Thus the duplicates are entirely redundant, and we can remove them.\n",
    "\n",
    "Let's inspect some individual files to look for more problems."
   ],
   "id": "62404eb6b0979caf"
  },
  {
   "metadata": {
    "ExecuteTime": {
     "end_time": "2025-05-13T11:33:14.830615Z",
     "start_time": "2025-05-13T11:33:14.819516Z"
    }
   },
   "cell_type": "code",
   "source": [
    "random_idx = np.random.randint(0, len(trips_data_list))\n",
    "print(random_idx)"
   ],
   "id": "c362bb75278db281",
   "outputs": [
    {
     "name": "stdout",
     "output_type": "stream",
     "text": [
      "703\n"
     ]
    }
   ],
   "execution_count": 61
  },
  {
   "metadata": {
    "ExecuteTime": {
     "end_time": "2025-05-13T11:33:15.582726Z",
     "start_time": "2025-05-13T11:33:15.557717Z"
    }
   },
   "cell_type": "code",
   "source": [
    "shift = 0\n",
    "random_trip_data_df = pd.read_csv(os.path.join(data_path, 'trips_data', trips_data_list[random_idx+shift]))\n",
    "print(trips_data_list[random_idx+shift])\n",
    "random_trip_data_df.sort_values('km', ascending=False).head(10)"
   ],
   "id": "a37029fda1e87fb0",
   "outputs": [
    {
     "name": "stdout",
     "output_type": "stream",
     "text": [
      "august 2015_4781547.csv\n"
     ]
    },
    {
     "data": {
      "text/plain": [
       "    Unnamed: 0        customer  driver_id             end_time           km  \\\n",
       "27          27           angel        528  2015-08-14 21:31:00  1591.522299   \n",
       "21          21            osem        918  2015-08-11 18:53:00   582.585147   \n",
       "38          38         aminach        421  2015-08-20 10:10:00   579.265576   \n",
       "26          26    bituch_leumi        543  2015-08-14 06:47:00   567.077779   \n",
       "19          19             yes        453  2015-08-10 22:24:00   553.174397   \n",
       "34          34           tnuva        546  2015-08-18 08:30:00   538.374942   \n",
       "31          31  jerusalem_muni        380  2015-08-16 22:49:00   513.905183   \n",
       "36          36             iaf        367  2015-08-19 09:44:00   511.050188   \n",
       "14          14    bituch_leumi        357  2015-08-07 09:56:00   510.574531   \n",
       "4            4    bituch_leumi        411  2015-08-03 08:25:00   485.876975   \n",
       "\n",
       "             start_time  \n",
       "27  2015-08-14 14:34:00  \n",
       "21  2015-08-11 12:01:00  \n",
       "38  2015-08-20 02:35:00  \n",
       "26  2015-08-14 00:15:00  \n",
       "19  2015-08-10 15:50:00  \n",
       "34  2015-08-18 01:40:00  \n",
       "31  2015-08-16 15:19:00  \n",
       "36  2015-08-19 03:27:00  \n",
       "14                  NaN  \n",
       "4   2015-08-03 02:11:00  "
      ],
      "text/html": [
       "<div>\n",
       "<style scoped>\n",
       "    .dataframe tbody tr th:only-of-type {\n",
       "        vertical-align: middle;\n",
       "    }\n",
       "\n",
       "    .dataframe tbody tr th {\n",
       "        vertical-align: top;\n",
       "    }\n",
       "\n",
       "    .dataframe thead th {\n",
       "        text-align: right;\n",
       "    }\n",
       "</style>\n",
       "<table border=\"1\" class=\"dataframe\">\n",
       "  <thead>\n",
       "    <tr style=\"text-align: right;\">\n",
       "      <th></th>\n",
       "      <th>Unnamed: 0</th>\n",
       "      <th>customer</th>\n",
       "      <th>driver_id</th>\n",
       "      <th>end_time</th>\n",
       "      <th>km</th>\n",
       "      <th>start_time</th>\n",
       "    </tr>\n",
       "  </thead>\n",
       "  <tbody>\n",
       "    <tr>\n",
       "      <th>27</th>\n",
       "      <td>27</td>\n",
       "      <td>angel</td>\n",
       "      <td>528</td>\n",
       "      <td>2015-08-14 21:31:00</td>\n",
       "      <td>1591.522299</td>\n",
       "      <td>2015-08-14 14:34:00</td>\n",
       "    </tr>\n",
       "    <tr>\n",
       "      <th>21</th>\n",
       "      <td>21</td>\n",
       "      <td>osem</td>\n",
       "      <td>918</td>\n",
       "      <td>2015-08-11 18:53:00</td>\n",
       "      <td>582.585147</td>\n",
       "      <td>2015-08-11 12:01:00</td>\n",
       "    </tr>\n",
       "    <tr>\n",
       "      <th>38</th>\n",
       "      <td>38</td>\n",
       "      <td>aminach</td>\n",
       "      <td>421</td>\n",
       "      <td>2015-08-20 10:10:00</td>\n",
       "      <td>579.265576</td>\n",
       "      <td>2015-08-20 02:35:00</td>\n",
       "    </tr>\n",
       "    <tr>\n",
       "      <th>26</th>\n",
       "      <td>26</td>\n",
       "      <td>bituch_leumi</td>\n",
       "      <td>543</td>\n",
       "      <td>2015-08-14 06:47:00</td>\n",
       "      <td>567.077779</td>\n",
       "      <td>2015-08-14 00:15:00</td>\n",
       "    </tr>\n",
       "    <tr>\n",
       "      <th>19</th>\n",
       "      <td>19</td>\n",
       "      <td>yes</td>\n",
       "      <td>453</td>\n",
       "      <td>2015-08-10 22:24:00</td>\n",
       "      <td>553.174397</td>\n",
       "      <td>2015-08-10 15:50:00</td>\n",
       "    </tr>\n",
       "    <tr>\n",
       "      <th>34</th>\n",
       "      <td>34</td>\n",
       "      <td>tnuva</td>\n",
       "      <td>546</td>\n",
       "      <td>2015-08-18 08:30:00</td>\n",
       "      <td>538.374942</td>\n",
       "      <td>2015-08-18 01:40:00</td>\n",
       "    </tr>\n",
       "    <tr>\n",
       "      <th>31</th>\n",
       "      <td>31</td>\n",
       "      <td>jerusalem_muni</td>\n",
       "      <td>380</td>\n",
       "      <td>2015-08-16 22:49:00</td>\n",
       "      <td>513.905183</td>\n",
       "      <td>2015-08-16 15:19:00</td>\n",
       "    </tr>\n",
       "    <tr>\n",
       "      <th>36</th>\n",
       "      <td>36</td>\n",
       "      <td>iaf</td>\n",
       "      <td>367</td>\n",
       "      <td>2015-08-19 09:44:00</td>\n",
       "      <td>511.050188</td>\n",
       "      <td>2015-08-19 03:27:00</td>\n",
       "    </tr>\n",
       "    <tr>\n",
       "      <th>14</th>\n",
       "      <td>14</td>\n",
       "      <td>bituch_leumi</td>\n",
       "      <td>357</td>\n",
       "      <td>2015-08-07 09:56:00</td>\n",
       "      <td>510.574531</td>\n",
       "      <td>NaN</td>\n",
       "    </tr>\n",
       "    <tr>\n",
       "      <th>4</th>\n",
       "      <td>4</td>\n",
       "      <td>bituch_leumi</td>\n",
       "      <td>411</td>\n",
       "      <td>2015-08-03 08:25:00</td>\n",
       "      <td>485.876975</td>\n",
       "      <td>2015-08-03 02:11:00</td>\n",
       "    </tr>\n",
       "  </tbody>\n",
       "</table>\n",
       "</div>"
      ]
     },
     "execution_count": 62,
     "metadata": {},
     "output_type": "execute_result"
    }
   ],
   "execution_count": 62
  },
  {
   "metadata": {},
   "cell_type": "markdown",
   "source": "Is it (?) suspicious to see drivers drive 3000 km on the same job, during 2 days?",
   "id": "508e000071639a30"
  },
  {
   "metadata": {
    "ExecuteTime": {
     "end_time": "2025-05-13T11:40:32.626204Z",
     "start_time": "2025-05-13T11:40:32.604588Z"
    }
   },
   "cell_type": "code",
   "source": [
    "a = pd.unique(random_trip_data_df['customer'])\n",
    "b = pd.unique(taarif_df['customer'])\n",
    "print(a)\n",
    "print(b)"
   ],
   "id": "f6779e14ba5df85f",
   "outputs": [
    {
     "name": "stdout",
     "output_type": "stream",
     "text": [
      "['hot' 'jerusalem_muni' 'tara' 'intel' 'bituch_leumi' 'angel'\n",
      " 'electricity' 'osem' 'iaf' 'tnuva' 'yes' 'aminach']\n",
      "[nan 'jerusalem_muni' 'intel' 'mizranei_kfar_saba' 'dbs' 'tnuva' 'angel'\n",
      " 'telecommunication_ltd' 'osem' 'iaf' 'tara' 'electricity' 'bituch_leumi']\n"
     ]
    }
   ],
   "execution_count": 74
  },
  {
   "metadata": {
    "ExecuteTime": {
     "end_time": "2025-05-13T11:40:42.487466Z",
     "start_time": "2025-05-13T11:40:42.479383Z"
    }
   },
   "cell_type": "code",
   "source": [
    "# whats in a but not in b\n",
    "a[~np.isin(a, b)]"
   ],
   "id": "fda9385d8a9eeb14",
   "outputs": [
    {
     "data": {
      "text/plain": [
       "array(['hot', 'yes', 'aminach'], dtype=object)"
      ]
     },
     "execution_count": 75,
     "metadata": {},
     "output_type": "execute_result"
    }
   ],
   "execution_count": 75
  },
  {
   "metadata": {},
   "cell_type": "markdown",
   "source": [
    "It seems the salary table doesn't have customers that appear on the trips table, which is a problem. ASK\n",
    "\n",
    "Let's unify all the trip tables after while disregarding the duplicates."
   ],
   "id": "7aed1f846a08097b"
  },
  {
   "metadata": {
    "ExecuteTime": {
     "end_time": "2025-05-13T11:57:36.515340Z",
     "start_time": "2025-05-13T11:57:21.958854Z"
    }
   },
   "cell_type": "code",
   "source": [
    "trips_data_no_dups_list = [trip for trip in trips_data_list if '(2)' not in trip]\n",
    "trips_dfs = [pd.read_csv(os.path.join(data_path, 'trips_data', trip)) for trip in trips_data_no_dups_list]\n",
    "trips_df = pd.concat(trips_dfs, ignore_index=True)\n",
    "trips_df.head()"
   ],
   "id": "188bc1a1746a1725",
   "outputs": [
    {
     "data": {
      "text/plain": [
       "   Unnamed: 0        customer  driver_id             end_time          km  \\\n",
       "0           0             iaf        570  2015-04-01 09:36:00  672.312716   \n",
       "1           1             yes        822  2015-04-01 16:17:00   96.048221   \n",
       "2           2           intel        437  2015-04-02 04:15:00   90.727997   \n",
       "3           3             yes         70  2015-04-02 15:41:00  216.595350   \n",
       "4           4  jerusalem_muni        446                  NaN   96.437630   \n",
       "\n",
       "            start_time  \n",
       "0  2015-04-01 01:55:00  \n",
       "1  2015-04-01 15:12:00  \n",
       "2  2015-04-02 02:49:00  \n",
       "3  2015-04-02 12:41:00  \n",
       "4  2015-04-03 00:15:00  "
      ],
      "text/html": [
       "<div>\n",
       "<style scoped>\n",
       "    .dataframe tbody tr th:only-of-type {\n",
       "        vertical-align: middle;\n",
       "    }\n",
       "\n",
       "    .dataframe tbody tr th {\n",
       "        vertical-align: top;\n",
       "    }\n",
       "\n",
       "    .dataframe thead th {\n",
       "        text-align: right;\n",
       "    }\n",
       "</style>\n",
       "<table border=\"1\" class=\"dataframe\">\n",
       "  <thead>\n",
       "    <tr style=\"text-align: right;\">\n",
       "      <th></th>\n",
       "      <th>Unnamed: 0</th>\n",
       "      <th>customer</th>\n",
       "      <th>driver_id</th>\n",
       "      <th>end_time</th>\n",
       "      <th>km</th>\n",
       "      <th>start_time</th>\n",
       "    </tr>\n",
       "  </thead>\n",
       "  <tbody>\n",
       "    <tr>\n",
       "      <th>0</th>\n",
       "      <td>0</td>\n",
       "      <td>iaf</td>\n",
       "      <td>570</td>\n",
       "      <td>2015-04-01 09:36:00</td>\n",
       "      <td>672.312716</td>\n",
       "      <td>2015-04-01 01:55:00</td>\n",
       "    </tr>\n",
       "    <tr>\n",
       "      <th>1</th>\n",
       "      <td>1</td>\n",
       "      <td>yes</td>\n",
       "      <td>822</td>\n",
       "      <td>2015-04-01 16:17:00</td>\n",
       "      <td>96.048221</td>\n",
       "      <td>2015-04-01 15:12:00</td>\n",
       "    </tr>\n",
       "    <tr>\n",
       "      <th>2</th>\n",
       "      <td>2</td>\n",
       "      <td>intel</td>\n",
       "      <td>437</td>\n",
       "      <td>2015-04-02 04:15:00</td>\n",
       "      <td>90.727997</td>\n",
       "      <td>2015-04-02 02:49:00</td>\n",
       "    </tr>\n",
       "    <tr>\n",
       "      <th>3</th>\n",
       "      <td>3</td>\n",
       "      <td>yes</td>\n",
       "      <td>70</td>\n",
       "      <td>2015-04-02 15:41:00</td>\n",
       "      <td>216.595350</td>\n",
       "      <td>2015-04-02 12:41:00</td>\n",
       "    </tr>\n",
       "    <tr>\n",
       "      <th>4</th>\n",
       "      <td>4</td>\n",
       "      <td>jerusalem_muni</td>\n",
       "      <td>446</td>\n",
       "      <td>NaN</td>\n",
       "      <td>96.437630</td>\n",
       "      <td>2015-04-03 00:15:00</td>\n",
       "    </tr>\n",
       "  </tbody>\n",
       "</table>\n",
       "</div>"
      ]
     },
     "execution_count": 78,
     "metadata": {},
     "output_type": "execute_result"
    }
   ],
   "execution_count": 78
  },
  {
   "metadata": {
    "ExecuteTime": {
     "end_time": "2025-05-13T11:58:02.249586Z",
     "start_time": "2025-05-13T11:58:02.221595Z"
    }
   },
   "cell_type": "code",
   "source": "trips_df",
   "id": "a77090f20e884f1a",
   "outputs": [
    {
     "data": {
      "text/plain": [
       "        Unnamed: 0        customer  driver_id             end_time  \\\n",
       "0                0             iaf        570  2015-04-01 09:36:00   \n",
       "1                1             yes        822  2015-04-01 16:17:00   \n",
       "2                2           intel        437  2015-04-02 04:15:00   \n",
       "3                3             yes         70  2015-04-02 15:41:00   \n",
       "4                4  jerusalem_muni        446                  NaN   \n",
       "...            ...             ...        ...                  ...   \n",
       "318176          49             iaf        549  2015-09-25 18:41:00   \n",
       "318177          50             yes        398  2015-09-26 08:07:00   \n",
       "318178          51           tnuva        924  2015-09-26 16:13:00   \n",
       "318179          52            tara        884  2015-09-27 06:21:00   \n",
       "318180          53             yes        901  2015-09-29 04:01:00   \n",
       "\n",
       "                 km           start_time  \n",
       "0        672.312716  2015-04-01 01:55:00  \n",
       "1         96.048221  2015-04-01 15:12:00  \n",
       "2         90.727997  2015-04-02 02:49:00  \n",
       "3        216.595350  2015-04-02 12:41:00  \n",
       "4         96.437630  2015-04-03 00:15:00  \n",
       "...             ...                  ...  \n",
       "318176   338.646624  2015-09-25 14:02:00  \n",
       "318177   690.632760  2015-09-26 00:11:00  \n",
       "318178    74.532361  2015-09-26 15:12:00  \n",
       "318179   534.599297  2015-09-27 00:05:00  \n",
       "318180  3129.821745  2015-09-27 13:57:00  \n",
       "\n",
       "[318181 rows x 6 columns]"
      ],
      "text/html": [
       "<div>\n",
       "<style scoped>\n",
       "    .dataframe tbody tr th:only-of-type {\n",
       "        vertical-align: middle;\n",
       "    }\n",
       "\n",
       "    .dataframe tbody tr th {\n",
       "        vertical-align: top;\n",
       "    }\n",
       "\n",
       "    .dataframe thead th {\n",
       "        text-align: right;\n",
       "    }\n",
       "</style>\n",
       "<table border=\"1\" class=\"dataframe\">\n",
       "  <thead>\n",
       "    <tr style=\"text-align: right;\">\n",
       "      <th></th>\n",
       "      <th>Unnamed: 0</th>\n",
       "      <th>customer</th>\n",
       "      <th>driver_id</th>\n",
       "      <th>end_time</th>\n",
       "      <th>km</th>\n",
       "      <th>start_time</th>\n",
       "    </tr>\n",
       "  </thead>\n",
       "  <tbody>\n",
       "    <tr>\n",
       "      <th>0</th>\n",
       "      <td>0</td>\n",
       "      <td>iaf</td>\n",
       "      <td>570</td>\n",
       "      <td>2015-04-01 09:36:00</td>\n",
       "      <td>672.312716</td>\n",
       "      <td>2015-04-01 01:55:00</td>\n",
       "    </tr>\n",
       "    <tr>\n",
       "      <th>1</th>\n",
       "      <td>1</td>\n",
       "      <td>yes</td>\n",
       "      <td>822</td>\n",
       "      <td>2015-04-01 16:17:00</td>\n",
       "      <td>96.048221</td>\n",
       "      <td>2015-04-01 15:12:00</td>\n",
       "    </tr>\n",
       "    <tr>\n",
       "      <th>2</th>\n",
       "      <td>2</td>\n",
       "      <td>intel</td>\n",
       "      <td>437</td>\n",
       "      <td>2015-04-02 04:15:00</td>\n",
       "      <td>90.727997</td>\n",
       "      <td>2015-04-02 02:49:00</td>\n",
       "    </tr>\n",
       "    <tr>\n",
       "      <th>3</th>\n",
       "      <td>3</td>\n",
       "      <td>yes</td>\n",
       "      <td>70</td>\n",
       "      <td>2015-04-02 15:41:00</td>\n",
       "      <td>216.595350</td>\n",
       "      <td>2015-04-02 12:41:00</td>\n",
       "    </tr>\n",
       "    <tr>\n",
       "      <th>4</th>\n",
       "      <td>4</td>\n",
       "      <td>jerusalem_muni</td>\n",
       "      <td>446</td>\n",
       "      <td>NaN</td>\n",
       "      <td>96.437630</td>\n",
       "      <td>2015-04-03 00:15:00</td>\n",
       "    </tr>\n",
       "    <tr>\n",
       "      <th>...</th>\n",
       "      <td>...</td>\n",
       "      <td>...</td>\n",
       "      <td>...</td>\n",
       "      <td>...</td>\n",
       "      <td>...</td>\n",
       "      <td>...</td>\n",
       "    </tr>\n",
       "    <tr>\n",
       "      <th>318176</th>\n",
       "      <td>49</td>\n",
       "      <td>iaf</td>\n",
       "      <td>549</td>\n",
       "      <td>2015-09-25 18:41:00</td>\n",
       "      <td>338.646624</td>\n",
       "      <td>2015-09-25 14:02:00</td>\n",
       "    </tr>\n",
       "    <tr>\n",
       "      <th>318177</th>\n",
       "      <td>50</td>\n",
       "      <td>yes</td>\n",
       "      <td>398</td>\n",
       "      <td>2015-09-26 08:07:00</td>\n",
       "      <td>690.632760</td>\n",
       "      <td>2015-09-26 00:11:00</td>\n",
       "    </tr>\n",
       "    <tr>\n",
       "      <th>318178</th>\n",
       "      <td>51</td>\n",
       "      <td>tnuva</td>\n",
       "      <td>924</td>\n",
       "      <td>2015-09-26 16:13:00</td>\n",
       "      <td>74.532361</td>\n",
       "      <td>2015-09-26 15:12:00</td>\n",
       "    </tr>\n",
       "    <tr>\n",
       "      <th>318179</th>\n",
       "      <td>52</td>\n",
       "      <td>tara</td>\n",
       "      <td>884</td>\n",
       "      <td>2015-09-27 06:21:00</td>\n",
       "      <td>534.599297</td>\n",
       "      <td>2015-09-27 00:05:00</td>\n",
       "    </tr>\n",
       "    <tr>\n",
       "      <th>318180</th>\n",
       "      <td>53</td>\n",
       "      <td>yes</td>\n",
       "      <td>901</td>\n",
       "      <td>2015-09-29 04:01:00</td>\n",
       "      <td>3129.821745</td>\n",
       "      <td>2015-09-27 13:57:00</td>\n",
       "    </tr>\n",
       "  </tbody>\n",
       "</table>\n",
       "<p>318181 rows × 6 columns</p>\n",
       "</div>"
      ]
     },
     "execution_count": 80,
     "metadata": {},
     "output_type": "execute_result"
    }
   ],
   "execution_count": 80
  },
  {
   "metadata": {
    "ExecuteTime": {
     "end_time": "2025-05-13T12:08:51.663121Z",
     "start_time": "2025-05-13T12:08:51.617098Z"
    }
   },
   "cell_type": "code",
   "source": [
    "a = pd.unique(trips_df['customer'])\n",
    "b = pd.unique(taarif_df['customer'])\n",
    "a[~np.isin(a, b)]"
   ],
   "id": "7d286a6367871925",
   "outputs": [
    {
     "data": {
      "text/plain": [
       "array(['yes', 'aminach', 'hot'], dtype=object)"
      ]
     },
     "execution_count": 86,
     "metadata": {},
     "output_type": "execute_result"
    }
   ],
   "execution_count": 86
  },
  {
   "metadata": {
    "ExecuteTime": {
     "end_time": "2025-05-13T12:09:24.464859Z",
     "start_time": "2025-05-13T12:09:24.450351Z"
    }
   },
   "cell_type": "code",
   "source": "b[~np.isin(b, a)]",
   "id": "6dfed064e41ca134",
   "outputs": [
    {
     "data": {
      "text/plain": [
       "array([nan, 'mizranei_kfar_saba', 'dbs', 'telecommunication_ltd'],\n",
       "      dtype=object)"
      ]
     },
     "execution_count": 89,
     "metadata": {},
     "output_type": "execute_result"
    }
   ],
   "execution_count": 89
  },
  {
   "metadata": {},
   "cell_type": "markdown",
   "source": "Interesting, common sense can match those (see summary document).",
   "id": "fee0d4d3664046c3"
  },
  {
   "metadata": {},
   "cell_type": "markdown",
   "source": "## Trying to assemble the summary table",
   "id": "d316dd9b74e8792a"
  },
  {
   "metadata": {
    "ExecuteTime": {
     "end_time": "2025-05-13T13:13:46.087372Z",
     "start_time": "2025-05-13T13:13:45.989110Z"
    }
   },
   "cell_type": "code",
   "source": [
    "print(new_drivers_df.columns)\n",
    "print(old_drivers_df.columns)\n",
    "print(taarif_df.columns)\n",
    "print(trips_df.columns)"
   ],
   "id": "51c16ec2c3605fbf",
   "outputs": [
    {
     "name": "stdout",
     "output_type": "stream",
     "text": [
      "Index(['Unnamed: 0', 'birthdate', 'gender', 'id', 'vetek'], dtype='object')\n",
      "Index(['Unnamed: 0', 'birthdate', 'gender', 'id', 'vetek'], dtype='object')\n",
      "Index(['customer', 'basic_taarif', 'extra_milage', 'night_bonus',\n",
      "       'weekend_bonus'],\n",
      "      dtype='object')\n",
      "Index(['Unnamed: 0', 'customer', 'driver_id', 'end_time', 'km', 'start_time'], dtype='object')\n"
     ]
    }
   ],
   "execution_count": 90
  },
  {
   "metadata": {},
   "cell_type": "code",
   "outputs": [],
   "execution_count": null,
   "source": [
    "new_drivers_df['vetek'] = new_drivers_df['vetek'].apply(lambda x: x / 365)\n",
    "new_drivers_df.drop('Unnamed: 0', axis=1, inplace=True)\n",
    "old_drivers_df.drop('Unnamed: 0', axis=1, inplace=True)\n",
    "trips_df.drop('Unnamed: 0', axis=1, inplace=True)"
   ],
   "id": "9ca849d95bf1e606"
  },
  {
   "metadata": {
    "ExecuteTime": {
     "end_time": "2025-05-13T13:47:36.692346Z",
     "start_time": "2025-05-13T13:47:36.642679Z"
    }
   },
   "cell_type": "code",
   "source": "taarif_df['customer']",
   "id": "6d04a39cc7c38e54",
   "outputs": [
    {
     "data": {
      "text/plain": [
       "0                       NaN\n",
       "1            jerusalem_muni\n",
       "2                     intel\n",
       "3        mizranei_kfar_saba\n",
       "4                       dbs\n",
       "5                     tnuva\n",
       "6                     angel\n",
       "7     telecommunication_ltd\n",
       "8                      osem\n",
       "9                       iaf\n",
       "10                     tara\n",
       "11              electricity\n",
       "12             bituch_leumi\n",
       "Name: customer, dtype: object"
      ]
     },
     "execution_count": 91,
     "metadata": {},
     "output_type": "execute_result"
    }
   ],
   "execution_count": 91
  },
  {
   "metadata": {
    "ExecuteTime": {
     "end_time": "2025-05-13T13:48:58.816575Z",
     "start_time": "2025-05-13T13:48:58.797752Z"
    }
   },
   "cell_type": "code",
   "source": [
    "taarif_df.replace({\n",
    "    'telecommunication_ltd': 'hot',\n",
    "    'dbs': 'yes',\n",
    "    'mizranei_kfar_saba': 'aminach'\n",
    "}, inplace=True)\n",
    "taarif_df.drop(axis=0, index=0, inplace=True)"
   ],
   "id": "8449279525d1c7b4",
   "outputs": [],
   "execution_count": 93
  },
  {
   "metadata": {
    "ExecuteTime": {
     "end_time": "2025-05-13T13:51:41.445462Z",
     "start_time": "2025-05-13T13:51:41.402650Z"
    }
   },
   "cell_type": "code",
   "source": "taarif_df",
   "id": "93914c3ea4460077",
   "outputs": [
    {
     "data": {
      "text/plain": [
       "          customer  basic_taarif  extra_milage  night_bonus  weekend_bonus\n",
       "1   jerusalem_muni           8.0          40.0         50.0           30.0\n",
       "2            intel           8.0           6.0         20.0            0.0\n",
       "3          aminach          15.0           4.0          0.0           25.0\n",
       "4              yes          10.0           8.0          0.0           25.0\n",
       "5            tnuva           6.0           3.0         80.0            0.0\n",
       "6            angel           1.0           5.0        100.0            0.0\n",
       "7              hot           7.0           7.0         10.0           40.0\n",
       "8             osem          12.0           4.0         20.0            0.0\n",
       "9              iaf          20.0          10.0        200.0          500.0\n",
       "10            tara           6.0           6.0         50.0           30.0\n",
       "11     electricity          10.0           NaN         40.0        70000.0\n",
       "12    bituch_leumi           NaN           NaN          NaN            NaN"
      ],
      "text/html": [
       "<div>\n",
       "<style scoped>\n",
       "    .dataframe tbody tr th:only-of-type {\n",
       "        vertical-align: middle;\n",
       "    }\n",
       "\n",
       "    .dataframe tbody tr th {\n",
       "        vertical-align: top;\n",
       "    }\n",
       "\n",
       "    .dataframe thead th {\n",
       "        text-align: right;\n",
       "    }\n",
       "</style>\n",
       "<table border=\"1\" class=\"dataframe\">\n",
       "  <thead>\n",
       "    <tr style=\"text-align: right;\">\n",
       "      <th></th>\n",
       "      <th>customer</th>\n",
       "      <th>basic_taarif</th>\n",
       "      <th>extra_milage</th>\n",
       "      <th>night_bonus</th>\n",
       "      <th>weekend_bonus</th>\n",
       "    </tr>\n",
       "  </thead>\n",
       "  <tbody>\n",
       "    <tr>\n",
       "      <th>1</th>\n",
       "      <td>jerusalem_muni</td>\n",
       "      <td>8.0</td>\n",
       "      <td>40.0</td>\n",
       "      <td>50.0</td>\n",
       "      <td>30.0</td>\n",
       "    </tr>\n",
       "    <tr>\n",
       "      <th>2</th>\n",
       "      <td>intel</td>\n",
       "      <td>8.0</td>\n",
       "      <td>6.0</td>\n",
       "      <td>20.0</td>\n",
       "      <td>0.0</td>\n",
       "    </tr>\n",
       "    <tr>\n",
       "      <th>3</th>\n",
       "      <td>aminach</td>\n",
       "      <td>15.0</td>\n",
       "      <td>4.0</td>\n",
       "      <td>0.0</td>\n",
       "      <td>25.0</td>\n",
       "    </tr>\n",
       "    <tr>\n",
       "      <th>4</th>\n",
       "      <td>yes</td>\n",
       "      <td>10.0</td>\n",
       "      <td>8.0</td>\n",
       "      <td>0.0</td>\n",
       "      <td>25.0</td>\n",
       "    </tr>\n",
       "    <tr>\n",
       "      <th>5</th>\n",
       "      <td>tnuva</td>\n",
       "      <td>6.0</td>\n",
       "      <td>3.0</td>\n",
       "      <td>80.0</td>\n",
       "      <td>0.0</td>\n",
       "    </tr>\n",
       "    <tr>\n",
       "      <th>6</th>\n",
       "      <td>angel</td>\n",
       "      <td>1.0</td>\n",
       "      <td>5.0</td>\n",
       "      <td>100.0</td>\n",
       "      <td>0.0</td>\n",
       "    </tr>\n",
       "    <tr>\n",
       "      <th>7</th>\n",
       "      <td>hot</td>\n",
       "      <td>7.0</td>\n",
       "      <td>7.0</td>\n",
       "      <td>10.0</td>\n",
       "      <td>40.0</td>\n",
       "    </tr>\n",
       "    <tr>\n",
       "      <th>8</th>\n",
       "      <td>osem</td>\n",
       "      <td>12.0</td>\n",
       "      <td>4.0</td>\n",
       "      <td>20.0</td>\n",
       "      <td>0.0</td>\n",
       "    </tr>\n",
       "    <tr>\n",
       "      <th>9</th>\n",
       "      <td>iaf</td>\n",
       "      <td>20.0</td>\n",
       "      <td>10.0</td>\n",
       "      <td>200.0</td>\n",
       "      <td>500.0</td>\n",
       "    </tr>\n",
       "    <tr>\n",
       "      <th>10</th>\n",
       "      <td>tara</td>\n",
       "      <td>6.0</td>\n",
       "      <td>6.0</td>\n",
       "      <td>50.0</td>\n",
       "      <td>30.0</td>\n",
       "    </tr>\n",
       "    <tr>\n",
       "      <th>11</th>\n",
       "      <td>electricity</td>\n",
       "      <td>10.0</td>\n",
       "      <td>NaN</td>\n",
       "      <td>40.0</td>\n",
       "      <td>70000.0</td>\n",
       "    </tr>\n",
       "    <tr>\n",
       "      <th>12</th>\n",
       "      <td>bituch_leumi</td>\n",
       "      <td>NaN</td>\n",
       "      <td>NaN</td>\n",
       "      <td>NaN</td>\n",
       "      <td>NaN</td>\n",
       "    </tr>\n",
       "  </tbody>\n",
       "</table>\n",
       "</div>"
      ]
     },
     "execution_count": 96,
     "metadata": {},
     "output_type": "execute_result"
    }
   ],
   "execution_count": 96
  },
  {
   "metadata": {
    "ExecuteTime": {
     "end_time": "2025-05-13T13:50:03.514611Z",
     "start_time": "2025-05-13T13:50:03.488400Z"
    }
   },
   "cell_type": "code",
   "source": "trips_df.head()",
   "id": "627e056443b85c68",
   "outputs": [
    {
     "data": {
      "text/plain": [
       "   Unnamed: 0        customer  driver_id             end_time          km  \\\n",
       "0           0             iaf        570  2015-04-01 09:36:00  672.312716   \n",
       "1           1             yes        822  2015-04-01 16:17:00   96.048221   \n",
       "2           2           intel        437  2015-04-02 04:15:00   90.727997   \n",
       "3           3             yes         70  2015-04-02 15:41:00  216.595350   \n",
       "4           4  jerusalem_muni        446                  NaN   96.437630   \n",
       "\n",
       "            start_time  \n",
       "0  2015-04-01 01:55:00  \n",
       "1  2015-04-01 15:12:00  \n",
       "2  2015-04-02 02:49:00  \n",
       "3  2015-04-02 12:41:00  \n",
       "4  2015-04-03 00:15:00  "
      ],
      "text/html": [
       "<div>\n",
       "<style scoped>\n",
       "    .dataframe tbody tr th:only-of-type {\n",
       "        vertical-align: middle;\n",
       "    }\n",
       "\n",
       "    .dataframe tbody tr th {\n",
       "        vertical-align: top;\n",
       "    }\n",
       "\n",
       "    .dataframe thead th {\n",
       "        text-align: right;\n",
       "    }\n",
       "</style>\n",
       "<table border=\"1\" class=\"dataframe\">\n",
       "  <thead>\n",
       "    <tr style=\"text-align: right;\">\n",
       "      <th></th>\n",
       "      <th>Unnamed: 0</th>\n",
       "      <th>customer</th>\n",
       "      <th>driver_id</th>\n",
       "      <th>end_time</th>\n",
       "      <th>km</th>\n",
       "      <th>start_time</th>\n",
       "    </tr>\n",
       "  </thead>\n",
       "  <tbody>\n",
       "    <tr>\n",
       "      <th>0</th>\n",
       "      <td>0</td>\n",
       "      <td>iaf</td>\n",
       "      <td>570</td>\n",
       "      <td>2015-04-01 09:36:00</td>\n",
       "      <td>672.312716</td>\n",
       "      <td>2015-04-01 01:55:00</td>\n",
       "    </tr>\n",
       "    <tr>\n",
       "      <th>1</th>\n",
       "      <td>1</td>\n",
       "      <td>yes</td>\n",
       "      <td>822</td>\n",
       "      <td>2015-04-01 16:17:00</td>\n",
       "      <td>96.048221</td>\n",
       "      <td>2015-04-01 15:12:00</td>\n",
       "    </tr>\n",
       "    <tr>\n",
       "      <th>2</th>\n",
       "      <td>2</td>\n",
       "      <td>intel</td>\n",
       "      <td>437</td>\n",
       "      <td>2015-04-02 04:15:00</td>\n",
       "      <td>90.727997</td>\n",
       "      <td>2015-04-02 02:49:00</td>\n",
       "    </tr>\n",
       "    <tr>\n",
       "      <th>3</th>\n",
       "      <td>3</td>\n",
       "      <td>yes</td>\n",
       "      <td>70</td>\n",
       "      <td>2015-04-02 15:41:00</td>\n",
       "      <td>216.595350</td>\n",
       "      <td>2015-04-02 12:41:00</td>\n",
       "    </tr>\n",
       "    <tr>\n",
       "      <th>4</th>\n",
       "      <td>4</td>\n",
       "      <td>jerusalem_muni</td>\n",
       "      <td>446</td>\n",
       "      <td>NaN</td>\n",
       "      <td>96.437630</td>\n",
       "      <td>2015-04-03 00:15:00</td>\n",
       "    </tr>\n",
       "  </tbody>\n",
       "</table>\n",
       "</div>"
      ]
     },
     "execution_count": 94,
     "metadata": {},
     "output_type": "execute_result"
    }
   ],
   "execution_count": 94
  }
 ],
 "metadata": {
  "kernelspec": {
   "display_name": "Python 3",
   "language": "python",
   "name": "python3"
  },
  "language_info": {
   "codemirror_mode": {
    "name": "ipython",
    "version": 2
   },
   "file_extension": ".py",
   "mimetype": "text/x-python",
   "name": "python",
   "nbconvert_exporter": "python",
   "pygments_lexer": "ipython2",
   "version": "2.7.6"
  }
 },
 "nbformat": 4,
 "nbformat_minor": 5
}
