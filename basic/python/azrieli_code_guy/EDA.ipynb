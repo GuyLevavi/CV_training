{
 "cells": [
  {
   "metadata": {},
   "cell_type": "markdown",
   "source": "# Exploring the Azrieli & Sons Data",
   "id": "17be9571f38baac"
  },
  {
   "metadata": {},
   "cell_type": "markdown",
   "source": "## Libraries and data loading",
   "id": "f2b5c54f9726256d"
  },
  {
   "cell_type": "code",
   "id": "initial_id",
   "metadata": {
    "collapsed": true,
    "ExecuteTime": {
     "end_time": "2025-05-14T07:13:03.299862Z",
     "start_time": "2025-05-14T07:13:03.293954Z"
    }
   },
   "source": [
    "import os\n",
    "import pandas as pd\n",
    "import numpy as np\n",
    "import matplotlib.pyplot as plt"
   ],
   "outputs": [],
   "execution_count": 1
  },
  {
   "metadata": {},
   "cell_type": "markdown",
   "source": "## Looking for problems in the data",
   "id": "9aadd76475e1677e"
  },
  {
   "metadata": {
    "ExecuteTime": {
     "end_time": "2025-05-14T07:13:03.500575Z",
     "start_time": "2025-05-14T07:13:03.315499Z"
    }
   },
   "cell_type": "code",
   "source": [
    "def calc_nan_df(df):\n",
    "    nan_summary = df.isna().sum()\n",
    "    nan_summary = nan_summary[nan_summary > 0].sort_values(ascending=False)\n",
    "    nan_summary = nan_summary.reset_index()\n",
    "    nan_summary.columns = ['Column', 'NaN Count']\n",
    "    nan_summary['NaN Ratio'] = np.round(nan_summary['NaN Count'] / df.shape[0],2)\n",
    "    return nan_summary\n",
    "\n",
    "data_path = r'C:\\Users\\user\\Desktop\\CV Training Guy\\CV_training\\basic\\python\\Basic - Azrieli & Sons data'\n",
    "old_drivers_df = pd.read_csv(os.path.join(data_path, 'Drivers_with_kviut.csv'))\n",
    "new_drivers_df = pd.read_csv(os.path.join(data_path, 'new_drivers.csv'))\n",
    "taarif_df = pd.read_csv(os.path.join(data_path, 'taarif.csv'))\n",
    "trips_data_list = os.listdir(os.path.join(data_path, 'trips_data'))"
   ],
   "id": "31008df09725d94c",
   "outputs": [],
   "execution_count": 2
  },
  {
   "metadata": {},
   "cell_type": "markdown",
   "source": "### Drivers, old and new",
   "id": "e5b2554c7631bd9e"
  },
  {
   "metadata": {
    "ExecuteTime": {
     "end_time": "2025-05-14T07:13:04.093763Z",
     "start_time": "2025-05-14T07:13:04.070500Z"
    }
   },
   "cell_type": "code",
   "source": "new_drivers_df",
   "id": "d40f49022d63803",
   "outputs": [
    {
     "data": {
      "text/plain": [
       "    Unnamed: 0          birthdate gender   id  vetek\n",
       "0            0         19.06.1967      F  943  232.0\n",
       "1            1  february 13, 1979      M  966   28.0\n",
       "2            2         19/11/1993      M  250   48.0\n",
       "3            3         02/02/1961    NaN  156  272.0\n",
       "4            4         07/03/1965      M   67  130.0\n",
       "..         ...                ...    ...  ...    ...\n",
       "95          95         16/08/1990      M  798  144.0\n",
       "96          96         05/06/1967      M  865  103.0\n",
       "97          97         02/10/1972      M  399  312.0\n",
       "98          98         16/03/1979      M  509  172.0\n",
       "99          99         27/10/1977      M  308  324.0\n",
       "\n",
       "[100 rows x 5 columns]"
      ],
      "text/html": [
       "<div>\n",
       "<style scoped>\n",
       "    .dataframe tbody tr th:only-of-type {\n",
       "        vertical-align: middle;\n",
       "    }\n",
       "\n",
       "    .dataframe tbody tr th {\n",
       "        vertical-align: top;\n",
       "    }\n",
       "\n",
       "    .dataframe thead th {\n",
       "        text-align: right;\n",
       "    }\n",
       "</style>\n",
       "<table border=\"1\" class=\"dataframe\">\n",
       "  <thead>\n",
       "    <tr style=\"text-align: right;\">\n",
       "      <th></th>\n",
       "      <th>Unnamed: 0</th>\n",
       "      <th>birthdate</th>\n",
       "      <th>gender</th>\n",
       "      <th>id</th>\n",
       "      <th>vetek</th>\n",
       "    </tr>\n",
       "  </thead>\n",
       "  <tbody>\n",
       "    <tr>\n",
       "      <th>0</th>\n",
       "      <td>0</td>\n",
       "      <td>19.06.1967</td>\n",
       "      <td>F</td>\n",
       "      <td>943</td>\n",
       "      <td>232.0</td>\n",
       "    </tr>\n",
       "    <tr>\n",
       "      <th>1</th>\n",
       "      <td>1</td>\n",
       "      <td>february 13, 1979</td>\n",
       "      <td>M</td>\n",
       "      <td>966</td>\n",
       "      <td>28.0</td>\n",
       "    </tr>\n",
       "    <tr>\n",
       "      <th>2</th>\n",
       "      <td>2</td>\n",
       "      <td>19/11/1993</td>\n",
       "      <td>M</td>\n",
       "      <td>250</td>\n",
       "      <td>48.0</td>\n",
       "    </tr>\n",
       "    <tr>\n",
       "      <th>3</th>\n",
       "      <td>3</td>\n",
       "      <td>02/02/1961</td>\n",
       "      <td>NaN</td>\n",
       "      <td>156</td>\n",
       "      <td>272.0</td>\n",
       "    </tr>\n",
       "    <tr>\n",
       "      <th>4</th>\n",
       "      <td>4</td>\n",
       "      <td>07/03/1965</td>\n",
       "      <td>M</td>\n",
       "      <td>67</td>\n",
       "      <td>130.0</td>\n",
       "    </tr>\n",
       "    <tr>\n",
       "      <th>...</th>\n",
       "      <td>...</td>\n",
       "      <td>...</td>\n",
       "      <td>...</td>\n",
       "      <td>...</td>\n",
       "      <td>...</td>\n",
       "    </tr>\n",
       "    <tr>\n",
       "      <th>95</th>\n",
       "      <td>95</td>\n",
       "      <td>16/08/1990</td>\n",
       "      <td>M</td>\n",
       "      <td>798</td>\n",
       "      <td>144.0</td>\n",
       "    </tr>\n",
       "    <tr>\n",
       "      <th>96</th>\n",
       "      <td>96</td>\n",
       "      <td>05/06/1967</td>\n",
       "      <td>M</td>\n",
       "      <td>865</td>\n",
       "      <td>103.0</td>\n",
       "    </tr>\n",
       "    <tr>\n",
       "      <th>97</th>\n",
       "      <td>97</td>\n",
       "      <td>02/10/1972</td>\n",
       "      <td>M</td>\n",
       "      <td>399</td>\n",
       "      <td>312.0</td>\n",
       "    </tr>\n",
       "    <tr>\n",
       "      <th>98</th>\n",
       "      <td>98</td>\n",
       "      <td>16/03/1979</td>\n",
       "      <td>M</td>\n",
       "      <td>509</td>\n",
       "      <td>172.0</td>\n",
       "    </tr>\n",
       "    <tr>\n",
       "      <th>99</th>\n",
       "      <td>99</td>\n",
       "      <td>27/10/1977</td>\n",
       "      <td>M</td>\n",
       "      <td>308</td>\n",
       "      <td>324.0</td>\n",
       "    </tr>\n",
       "  </tbody>\n",
       "</table>\n",
       "<p>100 rows × 5 columns</p>\n",
       "</div>"
      ]
     },
     "execution_count": 3,
     "metadata": {},
     "output_type": "execute_result"
    }
   ],
   "execution_count": 3
  },
  {
   "metadata": {},
   "cell_type": "markdown",
   "source": [
    "First column (id) is redundant.\n",
    "\n",
    "Second column (date) has different formats, which should be unified.\n",
    "\n",
    "Third column (male) as above, some missing values as well. Should we keep unknown as a category or remove it? ASK\n",
    "\n",
    "Rest seems ok."
   ],
   "id": "d5b4440c58056a06"
  },
  {
   "metadata": {
    "ExecuteTime": {
     "end_time": "2025-05-14T07:13:04.367780Z",
     "start_time": "2025-05-14T07:13:04.354911Z"
    }
   },
   "cell_type": "code",
   "source": "calc_nan_df(new_drivers_df)",
   "id": "c05571577345c1e5",
   "outputs": [
    {
     "data": {
      "text/plain": [
       "   Column  NaN Count  NaN Ratio\n",
       "0  gender          3       0.03"
      ],
      "text/html": [
       "<div>\n",
       "<style scoped>\n",
       "    .dataframe tbody tr th:only-of-type {\n",
       "        vertical-align: middle;\n",
       "    }\n",
       "\n",
       "    .dataframe tbody tr th {\n",
       "        vertical-align: top;\n",
       "    }\n",
       "\n",
       "    .dataframe thead th {\n",
       "        text-align: right;\n",
       "    }\n",
       "</style>\n",
       "<table border=\"1\" class=\"dataframe\">\n",
       "  <thead>\n",
       "    <tr style=\"text-align: right;\">\n",
       "      <th></th>\n",
       "      <th>Column</th>\n",
       "      <th>NaN Count</th>\n",
       "      <th>NaN Ratio</th>\n",
       "    </tr>\n",
       "  </thead>\n",
       "  <tbody>\n",
       "    <tr>\n",
       "      <th>0</th>\n",
       "      <td>gender</td>\n",
       "      <td>3</td>\n",
       "      <td>0.03</td>\n",
       "    </tr>\n",
       "  </tbody>\n",
       "</table>\n",
       "</div>"
      ]
     },
     "execution_count": 4,
     "metadata": {},
     "output_type": "execute_result"
    }
   ],
   "execution_count": 4
  },
  {
   "metadata": {
    "ExecuteTime": {
     "end_time": "2025-05-14T07:13:04.609880Z",
     "start_time": "2025-05-14T07:13:04.596056Z"
    }
   },
   "cell_type": "code",
   "source": "old_drivers_df['gender'].value_counts()",
   "id": "af5c78cbaa67173e",
   "outputs": [
    {
     "data": {
      "text/plain": [
       "gender\n",
       "M          674\n",
       "male        63\n",
       "boy         37\n",
       "unknown     37\n",
       "m           36\n",
       "F           17\n",
       "female      10\n",
       "girl         6\n",
       "none         4\n",
       "woman        3\n",
       "Name: count, dtype: int64"
      ]
     },
     "execution_count": 5,
     "metadata": {},
     "output_type": "execute_result"
    }
   ],
   "execution_count": 5
  },
  {
   "metadata": {},
   "cell_type": "markdown",
   "source": [
    "Note that the vetek in the new drivers column is measured probably in days while in the old drivers column it is measured in years, should be unified.\n",
    "\n",
    "Similar problems with the columns mentioned above."
   ],
   "id": "510a55ed85c42673"
  },
  {
   "metadata": {
    "ExecuteTime": {
     "end_time": "2025-05-14T07:13:05.103641Z",
     "start_time": "2025-05-14T07:13:05.086859Z"
    }
   },
   "cell_type": "code",
   "source": "calc_nan_df(old_drivers_df)",
   "id": "3f1e0b20700113d7",
   "outputs": [
    {
     "data": {
      "text/plain": [
       "      Column  NaN Count  NaN Ratio\n",
       "0     gender         13       0.01\n",
       "1  birthdate         10       0.01"
      ],
      "text/html": [
       "<div>\n",
       "<style scoped>\n",
       "    .dataframe tbody tr th:only-of-type {\n",
       "        vertical-align: middle;\n",
       "    }\n",
       "\n",
       "    .dataframe tbody tr th {\n",
       "        vertical-align: top;\n",
       "    }\n",
       "\n",
       "    .dataframe thead th {\n",
       "        text-align: right;\n",
       "    }\n",
       "</style>\n",
       "<table border=\"1\" class=\"dataframe\">\n",
       "  <thead>\n",
       "    <tr style=\"text-align: right;\">\n",
       "      <th></th>\n",
       "      <th>Column</th>\n",
       "      <th>NaN Count</th>\n",
       "      <th>NaN Ratio</th>\n",
       "    </tr>\n",
       "  </thead>\n",
       "  <tbody>\n",
       "    <tr>\n",
       "      <th>0</th>\n",
       "      <td>gender</td>\n",
       "      <td>13</td>\n",
       "      <td>0.01</td>\n",
       "    </tr>\n",
       "    <tr>\n",
       "      <th>1</th>\n",
       "      <td>birthdate</td>\n",
       "      <td>10</td>\n",
       "      <td>0.01</td>\n",
       "    </tr>\n",
       "  </tbody>\n",
       "</table>\n",
       "</div>"
      ]
     },
     "execution_count": 6,
     "metadata": {},
     "output_type": "execute_result"
    }
   ],
   "execution_count": 6
  },
  {
   "metadata": {
    "ExecuteTime": {
     "end_time": "2025-05-14T07:13:05.478847Z",
     "start_time": "2025-05-14T07:13:05.467513Z"
    }
   },
   "cell_type": "code",
   "source": [
    "old_ids = old_drivers_df['id'].unique()\n",
    "new_ids = new_drivers_df['id'].unique()\n",
    "# intersect\n",
    "common_ids = np.intersect1d(old_ids, new_ids)\n",
    "common_ids"
   ],
   "id": "d9e06019686367a9",
   "outputs": [
    {
     "data": {
      "text/plain": [
       "array([], dtype=int64)"
      ]
     },
     "execution_count": 7,
     "metadata": {},
     "output_type": "execute_result"
    }
   ],
   "execution_count": 7
  },
  {
   "metadata": {},
   "cell_type": "markdown",
   "source": "### Salary",
   "id": "73c1eea01635475b"
  },
  {
   "metadata": {
    "ExecuteTime": {
     "end_time": "2025-05-14T07:13:05.844832Z",
     "start_time": "2025-05-14T07:13:05.819120Z"
    }
   },
   "cell_type": "code",
   "source": "taarif_df",
   "id": "a9458d486eaea6ac",
   "outputs": [
    {
     "data": {
      "text/plain": [
       "                 customer  basic_taarif  extra_milage  night_bonus  \\\n",
       "0                     NaN           NaN           NaN          NaN   \n",
       "1          jerusalem_muni           8.0          40.0         50.0   \n",
       "2                   intel           8.0           6.0         20.0   \n",
       "3      mizranei_kfar_saba          15.0           4.0          0.0   \n",
       "4                     dbs          10.0           8.0          0.0   \n",
       "5                   tnuva           6.0           3.0         80.0   \n",
       "6                   angel           1.0           5.0        100.0   \n",
       "7   telecommunication_ltd           7.0           7.0         10.0   \n",
       "8                    osem          12.0           4.0         20.0   \n",
       "9                     iaf          20.0          10.0        200.0   \n",
       "10                   tara           6.0           6.0         50.0   \n",
       "11            electricity          10.0           NaN         40.0   \n",
       "12           bituch_leumi           NaN           NaN          NaN   \n",
       "\n",
       "    weekend_bonus  \n",
       "0             NaN  \n",
       "1            30.0  \n",
       "2             0.0  \n",
       "3            25.0  \n",
       "4            25.0  \n",
       "5             0.0  \n",
       "6             0.0  \n",
       "7            40.0  \n",
       "8             0.0  \n",
       "9           500.0  \n",
       "10           30.0  \n",
       "11        70000.0  \n",
       "12            NaN  "
      ],
      "text/html": [
       "<div>\n",
       "<style scoped>\n",
       "    .dataframe tbody tr th:only-of-type {\n",
       "        vertical-align: middle;\n",
       "    }\n",
       "\n",
       "    .dataframe tbody tr th {\n",
       "        vertical-align: top;\n",
       "    }\n",
       "\n",
       "    .dataframe thead th {\n",
       "        text-align: right;\n",
       "    }\n",
       "</style>\n",
       "<table border=\"1\" class=\"dataframe\">\n",
       "  <thead>\n",
       "    <tr style=\"text-align: right;\">\n",
       "      <th></th>\n",
       "      <th>customer</th>\n",
       "      <th>basic_taarif</th>\n",
       "      <th>extra_milage</th>\n",
       "      <th>night_bonus</th>\n",
       "      <th>weekend_bonus</th>\n",
       "    </tr>\n",
       "  </thead>\n",
       "  <tbody>\n",
       "    <tr>\n",
       "      <th>0</th>\n",
       "      <td>NaN</td>\n",
       "      <td>NaN</td>\n",
       "      <td>NaN</td>\n",
       "      <td>NaN</td>\n",
       "      <td>NaN</td>\n",
       "    </tr>\n",
       "    <tr>\n",
       "      <th>1</th>\n",
       "      <td>jerusalem_muni</td>\n",
       "      <td>8.0</td>\n",
       "      <td>40.0</td>\n",
       "      <td>50.0</td>\n",
       "      <td>30.0</td>\n",
       "    </tr>\n",
       "    <tr>\n",
       "      <th>2</th>\n",
       "      <td>intel</td>\n",
       "      <td>8.0</td>\n",
       "      <td>6.0</td>\n",
       "      <td>20.0</td>\n",
       "      <td>0.0</td>\n",
       "    </tr>\n",
       "    <tr>\n",
       "      <th>3</th>\n",
       "      <td>mizranei_kfar_saba</td>\n",
       "      <td>15.0</td>\n",
       "      <td>4.0</td>\n",
       "      <td>0.0</td>\n",
       "      <td>25.0</td>\n",
       "    </tr>\n",
       "    <tr>\n",
       "      <th>4</th>\n",
       "      <td>dbs</td>\n",
       "      <td>10.0</td>\n",
       "      <td>8.0</td>\n",
       "      <td>0.0</td>\n",
       "      <td>25.0</td>\n",
       "    </tr>\n",
       "    <tr>\n",
       "      <th>5</th>\n",
       "      <td>tnuva</td>\n",
       "      <td>6.0</td>\n",
       "      <td>3.0</td>\n",
       "      <td>80.0</td>\n",
       "      <td>0.0</td>\n",
       "    </tr>\n",
       "    <tr>\n",
       "      <th>6</th>\n",
       "      <td>angel</td>\n",
       "      <td>1.0</td>\n",
       "      <td>5.0</td>\n",
       "      <td>100.0</td>\n",
       "      <td>0.0</td>\n",
       "    </tr>\n",
       "    <tr>\n",
       "      <th>7</th>\n",
       "      <td>telecommunication_ltd</td>\n",
       "      <td>7.0</td>\n",
       "      <td>7.0</td>\n",
       "      <td>10.0</td>\n",
       "      <td>40.0</td>\n",
       "    </tr>\n",
       "    <tr>\n",
       "      <th>8</th>\n",
       "      <td>osem</td>\n",
       "      <td>12.0</td>\n",
       "      <td>4.0</td>\n",
       "      <td>20.0</td>\n",
       "      <td>0.0</td>\n",
       "    </tr>\n",
       "    <tr>\n",
       "      <th>9</th>\n",
       "      <td>iaf</td>\n",
       "      <td>20.0</td>\n",
       "      <td>10.0</td>\n",
       "      <td>200.0</td>\n",
       "      <td>500.0</td>\n",
       "    </tr>\n",
       "    <tr>\n",
       "      <th>10</th>\n",
       "      <td>tara</td>\n",
       "      <td>6.0</td>\n",
       "      <td>6.0</td>\n",
       "      <td>50.0</td>\n",
       "      <td>30.0</td>\n",
       "    </tr>\n",
       "    <tr>\n",
       "      <th>11</th>\n",
       "      <td>electricity</td>\n",
       "      <td>10.0</td>\n",
       "      <td>NaN</td>\n",
       "      <td>40.0</td>\n",
       "      <td>70000.0</td>\n",
       "    </tr>\n",
       "    <tr>\n",
       "      <th>12</th>\n",
       "      <td>bituch_leumi</td>\n",
       "      <td>NaN</td>\n",
       "      <td>NaN</td>\n",
       "      <td>NaN</td>\n",
       "      <td>NaN</td>\n",
       "    </tr>\n",
       "  </tbody>\n",
       "</table>\n",
       "</div>"
      ]
     },
     "execution_count": 8,
     "metadata": {},
     "output_type": "execute_result"
    }
   ],
   "execution_count": 8
  },
  {
   "metadata": {},
   "cell_type": "markdown",
   "source": [
    "First row is just NaNs.\n",
    "\n",
    "**Electricity** - missing data in extra milage (really missing or meant 0.0?), abnormal weekend bonus. ASK\n",
    "\n",
    "**Bituch Leumi** - all data is missing. ASK"
   ],
   "id": "36415b4c824d10b0"
  },
  {
   "metadata": {},
   "cell_type": "markdown",
   "source": "### Trips",
   "id": "4bf0169280ee4844"
  },
  {
   "metadata": {},
   "cell_type": "markdown",
   "source": "Now for the trips data, noticed there are some duplicate files, meaning files with the same name (the duplicate usually denoted with and appended '(2)' after the file name).",
   "id": "125dd056ca0d8895"
  },
  {
   "metadata": {
    "ExecuteTime": {
     "end_time": "2025-05-14T07:13:06.097492Z",
     "start_time": "2025-05-14T07:13:06.080350Z"
    }
   },
   "cell_type": "code",
   "source": [
    "trips_data_duplicates_list = [trip.split('.')[0] for trip in trips_data_list if '(' in trip]\n",
    "whats_inside_parentheses = np.unique([trip.split('(')[1].split(')')[0] for trip in trips_data_duplicates_list])"
   ],
   "id": "982b71a6e813885b",
   "outputs": [],
   "execution_count": 9
  },
  {
   "metadata": {
    "ExecuteTime": {
     "end_time": "2025-05-14T07:13:06.349136Z",
     "start_time": "2025-05-14T07:13:06.336303Z"
    }
   },
   "cell_type": "code",
   "source": "trips_data_duplicates_list",
   "id": "f1386e21e8fb35b5",
   "outputs": [
    {
     "data": {
      "text/plain": [
       "['april 2015_4781355(2)',\n",
       " 'april 2015_4781424(2)',\n",
       " 'april 2015_4781442(2)',\n",
       " 'april 2015_4781451(2)',\n",
       " 'april 2015_4781460(2)',\n",
       " 'april 2015_4781495(2)',\n",
       " 'april 2015_4781695(2)',\n",
       " 'april 2015_4781849(2)',\n",
       " 'august 2015_4781463(2)',\n",
       " 'august 2015_4781591(2)',\n",
       " 'august 2015_4781734(2)',\n",
       " 'august 2015_4781737(2)',\n",
       " 'august 2015_4781747(2)',\n",
       " 'august 2015_4781800(2)',\n",
       " 'december 2015_4781471(2)',\n",
       " 'december 2015_4781525(2)',\n",
       " 'december 2015_4781545(2)',\n",
       " 'december 2015_4781631(2)',\n",
       " 'december 2015_4781759(2)',\n",
       " 'december 2015_4781798(2)',\n",
       " 'february 2015_4781400(2)',\n",
       " 'february 2015_4781409(2)',\n",
       " 'february 2015_4781426(2)',\n",
       " 'february 2015_4781469(2)',\n",
       " 'february 2015_4781473(2)',\n",
       " 'february 2015_4781520(2)',\n",
       " 'february 2015_4781525(2)',\n",
       " 'february 2015_4781551(2)',\n",
       " 'february 2015_4781602(2)',\n",
       " 'february 2015_4781654(2)',\n",
       " 'february 2015_4781710(2)',\n",
       " 'february 2015_4781723(2)',\n",
       " 'february 2015_4781848(2)',\n",
       " 'january 2015_4781374(2)',\n",
       " 'january 2015_4781477(2)',\n",
       " 'january 2015_4781505(2)',\n",
       " 'january 2015_4781669(2)',\n",
       " 'january 2015_4781684(2)',\n",
       " 'january 2015_4781707(2)',\n",
       " 'january 2015_4781714(2)',\n",
       " 'january 2015_4781753(2)',\n",
       " 'january 2015_4781830(2)',\n",
       " 'january 2015_4781850(2)',\n",
       " 'july 2015_4781505(2)',\n",
       " 'july 2015_4781526(2)',\n",
       " 'july 2015_4781547(2)',\n",
       " 'july 2015_4781581(2)',\n",
       " 'july 2015_4781592(2)',\n",
       " 'july 2015_4781603(2)',\n",
       " 'july 2015_4781671(2)',\n",
       " 'july 2015_4781672(2)',\n",
       " 'july 2015_4781707(2)',\n",
       " 'july 2015_4781755(2)',\n",
       " 'june 2015_4781444(2)',\n",
       " 'june 2015_4781471(2)',\n",
       " 'june 2015_4781550(2)',\n",
       " 'june 2015_4781658(2)',\n",
       " 'june 2015_4781783(2)',\n",
       " 'march 2015_4781393(2)',\n",
       " 'march 2015_4781418(2)',\n",
       " 'march 2015_4781431(2)',\n",
       " 'march 2015_4781508(2)',\n",
       " 'march 2015_4781515(2)',\n",
       " 'march 2015_4781535(2)',\n",
       " 'march 2015_4781574(2)',\n",
       " 'march 2015_4781626(2)',\n",
       " 'march 2015_4781640(2)',\n",
       " 'march 2015_4781683(2)',\n",
       " 'march 2015_4781738(2)',\n",
       " 'march 2015_4781750(2)',\n",
       " 'may 2015_4781461(2)',\n",
       " 'may 2015_4781489(2)',\n",
       " 'may 2015_4781523(2)',\n",
       " 'may 2015_4781620(2)',\n",
       " 'may 2015_4781628(2)',\n",
       " 'may 2015_4781748(2)',\n",
       " 'may 2015_4781769(2)',\n",
       " 'november 2015_4781387(2)',\n",
       " 'november 2015_4781391(2)',\n",
       " 'november 2015_4781403(2)',\n",
       " 'november 2015_4781430(2)',\n",
       " 'november 2015_4781438(2)',\n",
       " 'november 2015_4781473(2)',\n",
       " 'november 2015_4781483(2)',\n",
       " 'november 2015_4781492(2)',\n",
       " 'november 2015_4781567(2)',\n",
       " 'november 2015_4781574(2)',\n",
       " 'november 2015_4781633(2)',\n",
       " 'november 2015_4781684(2)',\n",
       " 'november 2015_4781685(2)',\n",
       " 'november 2015_4781714(2)',\n",
       " 'november 2015_4781804(2)',\n",
       " 'october 2015_4781373(2)',\n",
       " 'october 2015_4781377(2)',\n",
       " 'october 2015_4781407(2)',\n",
       " 'october 2015_4781435(2)',\n",
       " 'october 2015_4781477(2)',\n",
       " 'october 2015_4781565(2)',\n",
       " 'october 2015_4781615(2)',\n",
       " 'october 2015_4781720(2)',\n",
       " 'september 2015_4781421(2)',\n",
       " 'september 2015_4781473(2)',\n",
       " 'september 2015_4781487(2)',\n",
       " 'september 2015_4781541(2)',\n",
       " 'september 2015_4781546(2)',\n",
       " 'september 2015_4781582(2)',\n",
       " 'september 2015_4781595(2)',\n",
       " 'september 2015_4781601(2)',\n",
       " 'september 2015_4781686(2)',\n",
       " 'september 2015_4781755(2)',\n",
       " 'september 2015_4781771(2)']"
      ]
     },
     "execution_count": 10,
     "metadata": {},
     "output_type": "execute_result"
    }
   ],
   "execution_count": 10
  },
  {
   "metadata": {
    "ExecuteTime": {
     "end_time": "2025-05-14T07:13:06.530027Z",
     "start_time": "2025-05-14T07:13:06.522067Z"
    }
   },
   "cell_type": "code",
   "source": "round(len(trips_data_duplicates_list) / len(trips_data_list), 2)",
   "id": "1e41047135faef05",
   "outputs": [
    {
     "data": {
      "text/plain": [
       "0.02"
      ]
     },
     "execution_count": 11,
     "metadata": {},
     "output_type": "execute_result"
    }
   ],
   "execution_count": 11
  },
  {
   "metadata": {},
   "cell_type": "markdown",
   "source": "2 percent of the files are duplicates, can't ignore that. Let's see what is inside the parentheses, i.e. if the duplicate denoter is always '(2)'.",
   "id": "23043fd221dca88"
  },
  {
   "metadata": {
    "ExecuteTime": {
     "end_time": "2025-05-14T07:13:06.643256Z",
     "start_time": "2025-05-14T07:13:06.636609Z"
    }
   },
   "cell_type": "code",
   "source": "whats_inside_parentheses",
   "id": "1c993f4922df9d3b",
   "outputs": [
    {
     "data": {
      "text/plain": [
       "array(['2'], dtype='<U1')"
      ]
     },
     "execution_count": 12,
     "metadata": {},
     "output_type": "execute_result"
    }
   ],
   "execution_count": 12
  },
  {
   "metadata": {},
   "cell_type": "markdown",
   "source": "Thus duplicates are always denoted with a postfix of (2). Let see if there is a pattern to the duplicates, compared to the original files.",
   "id": "a708564116100345"
  },
  {
   "metadata": {
    "ExecuteTime": {
     "end_time": "2025-05-14T07:13:07.449750Z",
     "start_time": "2025-05-14T07:13:06.777498Z"
    }
   },
   "cell_type": "code",
   "source": [
    "original_duplicate_tuples = [(x.split('(')[0] + '.csv', x + '.csv') for x in trips_data_duplicates_list]\n",
    "# convert each path to dataframe and check if they are the same in each tuple\n",
    "tuple_df = []\n",
    "equal_array = []\n",
    "for original, duplicate in original_duplicate_tuples:\n",
    "    original_df = pd.read_csv(os.path.join(data_path, 'trips_data', original))\n",
    "    duplicate_df = pd.read_csv(os.path.join(data_path, 'trips_data', duplicate))\n",
    "    tuple_df.append((original_df, duplicate_df))\n",
    "    # check if the dataframes are the same\n",
    "    equal_array.append(original_df.equals(duplicate_df))"
   ],
   "id": "601af9e08e4af763",
   "outputs": [],
   "execution_count": 13
  },
  {
   "metadata": {
    "ExecuteTime": {
     "end_time": "2025-05-14T07:13:07.517406Z",
     "start_time": "2025-05-14T07:13:07.506108Z"
    }
   },
   "cell_type": "code",
   "source": "sum(equal_array)",
   "id": "a6f35d6cd28dc082",
   "outputs": [
    {
     "data": {
      "text/plain": [
       "111"
      ]
     },
     "execution_count": 14,
     "metadata": {},
     "output_type": "execute_result"
    }
   ],
   "execution_count": 14
  },
  {
   "metadata": {
    "ExecuteTime": {
     "end_time": "2025-05-14T07:13:07.639141Z",
     "start_time": "2025-05-14T07:13:07.622252Z"
    }
   },
   "cell_type": "code",
   "source": "sum(equal_array) / len(equal_array)",
   "id": "e4fcd5c631c9c1d9",
   "outputs": [
    {
     "data": {
      "text/plain": [
       "1.0"
      ]
     },
     "execution_count": 15,
     "metadata": {},
     "output_type": "execute_result"
    }
   ],
   "execution_count": 15
  },
  {
   "metadata": {},
   "cell_type": "markdown",
   "source": [
    "Thus the duplicates are entirely redundant, and we can remove them.\n",
    "\n",
    "Let's inspect some individual files to look for more problems."
   ],
   "id": "62404eb6b0979caf"
  },
  {
   "metadata": {
    "ExecuteTime": {
     "end_time": "2025-05-14T07:13:07.770439Z",
     "start_time": "2025-05-14T07:13:07.747788Z"
    }
   },
   "cell_type": "code",
   "source": [
    "random_idx = np.random.randint(0, len(trips_data_list))\n",
    "print(random_idx)"
   ],
   "id": "c362bb75278db281",
   "outputs": [
    {
     "name": "stdout",
     "output_type": "stream",
     "text": [
      "2961\n"
     ]
    }
   ],
   "execution_count": 16
  },
  {
   "metadata": {
    "ExecuteTime": {
     "end_time": "2025-05-14T07:13:07.891427Z",
     "start_time": "2025-05-14T07:13:07.863828Z"
    }
   },
   "cell_type": "code",
   "source": [
    "shift = 0\n",
    "random_trip_data_df = pd.read_csv(os.path.join(data_path, 'trips_data', trips_data_list[random_idx+shift]))\n",
    "print(trips_data_list[random_idx+shift])\n",
    "random_trip_data_df.sort_values('km', ascending=False).head(10)"
   ],
   "id": "a37029fda1e87fb0",
   "outputs": [
    {
     "name": "stdout",
     "output_type": "stream",
     "text": [
      "july 2015_4781761.csv\n"
     ]
    },
    {
     "data": {
      "text/plain": [
       "    Unnamed: 0     customer  driver_id             end_time          km  \\\n",
       "1            2          yes        980  2015-07-02 08:05:00  559.955750   \n",
       "13          14         osem        293  2015-07-08 08:11:00  521.560602   \n",
       "4            5        intel        908  2015-07-03 21:13:00  509.510200   \n",
       "12          13          yes        525  2015-07-07 18:46:00  454.947073   \n",
       "2            3          yes        374  2015-07-02 17:39:00  433.071366   \n",
       "10          11         osem        733  2015-07-06 19:50:00  431.797707   \n",
       "0            1  electricity        257  2015-07-01 21:38:00  386.195159   \n",
       "9           10        intel        214  2015-07-06 07:40:00  335.078748   \n",
       "11          12  electricity        485  2015-07-07 06:26:00  255.153689   \n",
       "14          15      aminach        143  2015-07-08 17:59:00  249.204678   \n",
       "\n",
       "             start_time  \n",
       "1   2015-07-02 01:21:00  \n",
       "13  2015-07-08 01:20:00  \n",
       "4   2015-07-03 14:37:00  \n",
       "12  2015-07-07 12:08:00  \n",
       "2   2015-07-02 12:19:00  \n",
       "10  2015-07-06 14:34:00  \n",
       "0   2015-07-01 15:30:00  \n",
       "9   2015-07-06 03:53:00  \n",
       "11  2015-07-07 02:21:00  \n",
       "14  2015-07-08 14:27:00  "
      ],
      "text/html": [
       "<div>\n",
       "<style scoped>\n",
       "    .dataframe tbody tr th:only-of-type {\n",
       "        vertical-align: middle;\n",
       "    }\n",
       "\n",
       "    .dataframe tbody tr th {\n",
       "        vertical-align: top;\n",
       "    }\n",
       "\n",
       "    .dataframe thead th {\n",
       "        text-align: right;\n",
       "    }\n",
       "</style>\n",
       "<table border=\"1\" class=\"dataframe\">\n",
       "  <thead>\n",
       "    <tr style=\"text-align: right;\">\n",
       "      <th></th>\n",
       "      <th>Unnamed: 0</th>\n",
       "      <th>customer</th>\n",
       "      <th>driver_id</th>\n",
       "      <th>end_time</th>\n",
       "      <th>km</th>\n",
       "      <th>start_time</th>\n",
       "    </tr>\n",
       "  </thead>\n",
       "  <tbody>\n",
       "    <tr>\n",
       "      <th>1</th>\n",
       "      <td>2</td>\n",
       "      <td>yes</td>\n",
       "      <td>980</td>\n",
       "      <td>2015-07-02 08:05:00</td>\n",
       "      <td>559.955750</td>\n",
       "      <td>2015-07-02 01:21:00</td>\n",
       "    </tr>\n",
       "    <tr>\n",
       "      <th>13</th>\n",
       "      <td>14</td>\n",
       "      <td>osem</td>\n",
       "      <td>293</td>\n",
       "      <td>2015-07-08 08:11:00</td>\n",
       "      <td>521.560602</td>\n",
       "      <td>2015-07-08 01:20:00</td>\n",
       "    </tr>\n",
       "    <tr>\n",
       "      <th>4</th>\n",
       "      <td>5</td>\n",
       "      <td>intel</td>\n",
       "      <td>908</td>\n",
       "      <td>2015-07-03 21:13:00</td>\n",
       "      <td>509.510200</td>\n",
       "      <td>2015-07-03 14:37:00</td>\n",
       "    </tr>\n",
       "    <tr>\n",
       "      <th>12</th>\n",
       "      <td>13</td>\n",
       "      <td>yes</td>\n",
       "      <td>525</td>\n",
       "      <td>2015-07-07 18:46:00</td>\n",
       "      <td>454.947073</td>\n",
       "      <td>2015-07-07 12:08:00</td>\n",
       "    </tr>\n",
       "    <tr>\n",
       "      <th>2</th>\n",
       "      <td>3</td>\n",
       "      <td>yes</td>\n",
       "      <td>374</td>\n",
       "      <td>2015-07-02 17:39:00</td>\n",
       "      <td>433.071366</td>\n",
       "      <td>2015-07-02 12:19:00</td>\n",
       "    </tr>\n",
       "    <tr>\n",
       "      <th>10</th>\n",
       "      <td>11</td>\n",
       "      <td>osem</td>\n",
       "      <td>733</td>\n",
       "      <td>2015-07-06 19:50:00</td>\n",
       "      <td>431.797707</td>\n",
       "      <td>2015-07-06 14:34:00</td>\n",
       "    </tr>\n",
       "    <tr>\n",
       "      <th>0</th>\n",
       "      <td>1</td>\n",
       "      <td>electricity</td>\n",
       "      <td>257</td>\n",
       "      <td>2015-07-01 21:38:00</td>\n",
       "      <td>386.195159</td>\n",
       "      <td>2015-07-01 15:30:00</td>\n",
       "    </tr>\n",
       "    <tr>\n",
       "      <th>9</th>\n",
       "      <td>10</td>\n",
       "      <td>intel</td>\n",
       "      <td>214</td>\n",
       "      <td>2015-07-06 07:40:00</td>\n",
       "      <td>335.078748</td>\n",
       "      <td>2015-07-06 03:53:00</td>\n",
       "    </tr>\n",
       "    <tr>\n",
       "      <th>11</th>\n",
       "      <td>12</td>\n",
       "      <td>electricity</td>\n",
       "      <td>485</td>\n",
       "      <td>2015-07-07 06:26:00</td>\n",
       "      <td>255.153689</td>\n",
       "      <td>2015-07-07 02:21:00</td>\n",
       "    </tr>\n",
       "    <tr>\n",
       "      <th>14</th>\n",
       "      <td>15</td>\n",
       "      <td>aminach</td>\n",
       "      <td>143</td>\n",
       "      <td>2015-07-08 17:59:00</td>\n",
       "      <td>249.204678</td>\n",
       "      <td>2015-07-08 14:27:00</td>\n",
       "    </tr>\n",
       "  </tbody>\n",
       "</table>\n",
       "</div>"
      ]
     },
     "execution_count": 17,
     "metadata": {},
     "output_type": "execute_result"
    }
   ],
   "execution_count": 17
  },
  {
   "metadata": {},
   "cell_type": "markdown",
   "source": "Is it (?) suspicious to see drivers drive 3000 km on the same job, during 2 days?",
   "id": "508e000071639a30"
  },
  {
   "metadata": {
    "ExecuteTime": {
     "end_time": "2025-05-14T07:13:08.090715Z",
     "start_time": "2025-05-14T07:13:08.071167Z"
    }
   },
   "cell_type": "code",
   "source": [
    "a = pd.unique(random_trip_data_df['customer'])\n",
    "b = pd.unique(taarif_df['customer'])\n",
    "print(a)\n",
    "print(b)"
   ],
   "id": "f6779e14ba5df85f",
   "outputs": [
    {
     "name": "stdout",
     "output_type": "stream",
     "text": [
      "['electricity' 'yes' 'hot' 'intel' 'osem' 'bituch_leumi' 'tara' 'aminach']\n",
      "[nan 'jerusalem_muni' 'intel' 'mizranei_kfar_saba' 'dbs' 'tnuva' 'angel'\n",
      " 'telecommunication_ltd' 'osem' 'iaf' 'tara' 'electricity' 'bituch_leumi']\n"
     ]
    }
   ],
   "execution_count": 18
  },
  {
   "metadata": {
    "ExecuteTime": {
     "end_time": "2025-05-14T07:13:08.348470Z",
     "start_time": "2025-05-14T07:13:08.340628Z"
    }
   },
   "cell_type": "code",
   "source": [
    "# whats in a but not in b\n",
    "a[~np.isin(a, b)]"
   ],
   "id": "fda9385d8a9eeb14",
   "outputs": [
    {
     "data": {
      "text/plain": [
       "array(['yes', 'hot', 'aminach'], dtype=object)"
      ]
     },
     "execution_count": 19,
     "metadata": {},
     "output_type": "execute_result"
    }
   ],
   "execution_count": 19
  },
  {
   "metadata": {},
   "cell_type": "markdown",
   "source": [
    "It seems the salary table doesn't have customers that appear on the trips table, which is a problem. ASK\n",
    "\n",
    "Let's unify all the trip tables after while disregarding the duplicates."
   ],
   "id": "7aed1f846a08097b"
  },
  {
   "metadata": {
    "ExecuteTime": {
     "end_time": "2025-05-14T07:13:21.099739Z",
     "start_time": "2025-05-14T07:13:08.639811Z"
    }
   },
   "cell_type": "code",
   "source": [
    "trips_data_no_dups_list = [trip for trip in trips_data_list if '(2)' not in trip]\n",
    "trips_dfs = [pd.read_csv(os.path.join(data_path, 'trips_data', trip)) for trip in trips_data_no_dups_list]\n",
    "trips_df = pd.concat(trips_dfs, ignore_index=True)\n",
    "trips_df.head()"
   ],
   "id": "188bc1a1746a1725",
   "outputs": [
    {
     "data": {
      "text/plain": [
       "   Unnamed: 0        customer  driver_id             end_time          km  \\\n",
       "0           0             iaf        570  2015-04-01 09:36:00  672.312716   \n",
       "1           1             yes        822  2015-04-01 16:17:00   96.048221   \n",
       "2           2           intel        437  2015-04-02 04:15:00   90.727997   \n",
       "3           3             yes         70  2015-04-02 15:41:00  216.595350   \n",
       "4           4  jerusalem_muni        446                  NaN   96.437630   \n",
       "\n",
       "            start_time  \n",
       "0  2015-04-01 01:55:00  \n",
       "1  2015-04-01 15:12:00  \n",
       "2  2015-04-02 02:49:00  \n",
       "3  2015-04-02 12:41:00  \n",
       "4  2015-04-03 00:15:00  "
      ],
      "text/html": [
       "<div>\n",
       "<style scoped>\n",
       "    .dataframe tbody tr th:only-of-type {\n",
       "        vertical-align: middle;\n",
       "    }\n",
       "\n",
       "    .dataframe tbody tr th {\n",
       "        vertical-align: top;\n",
       "    }\n",
       "\n",
       "    .dataframe thead th {\n",
       "        text-align: right;\n",
       "    }\n",
       "</style>\n",
       "<table border=\"1\" class=\"dataframe\">\n",
       "  <thead>\n",
       "    <tr style=\"text-align: right;\">\n",
       "      <th></th>\n",
       "      <th>Unnamed: 0</th>\n",
       "      <th>customer</th>\n",
       "      <th>driver_id</th>\n",
       "      <th>end_time</th>\n",
       "      <th>km</th>\n",
       "      <th>start_time</th>\n",
       "    </tr>\n",
       "  </thead>\n",
       "  <tbody>\n",
       "    <tr>\n",
       "      <th>0</th>\n",
       "      <td>0</td>\n",
       "      <td>iaf</td>\n",
       "      <td>570</td>\n",
       "      <td>2015-04-01 09:36:00</td>\n",
       "      <td>672.312716</td>\n",
       "      <td>2015-04-01 01:55:00</td>\n",
       "    </tr>\n",
       "    <tr>\n",
       "      <th>1</th>\n",
       "      <td>1</td>\n",
       "      <td>yes</td>\n",
       "      <td>822</td>\n",
       "      <td>2015-04-01 16:17:00</td>\n",
       "      <td>96.048221</td>\n",
       "      <td>2015-04-01 15:12:00</td>\n",
       "    </tr>\n",
       "    <tr>\n",
       "      <th>2</th>\n",
       "      <td>2</td>\n",
       "      <td>intel</td>\n",
       "      <td>437</td>\n",
       "      <td>2015-04-02 04:15:00</td>\n",
       "      <td>90.727997</td>\n",
       "      <td>2015-04-02 02:49:00</td>\n",
       "    </tr>\n",
       "    <tr>\n",
       "      <th>3</th>\n",
       "      <td>3</td>\n",
       "      <td>yes</td>\n",
       "      <td>70</td>\n",
       "      <td>2015-04-02 15:41:00</td>\n",
       "      <td>216.595350</td>\n",
       "      <td>2015-04-02 12:41:00</td>\n",
       "    </tr>\n",
       "    <tr>\n",
       "      <th>4</th>\n",
       "      <td>4</td>\n",
       "      <td>jerusalem_muni</td>\n",
       "      <td>446</td>\n",
       "      <td>NaN</td>\n",
       "      <td>96.437630</td>\n",
       "      <td>2015-04-03 00:15:00</td>\n",
       "    </tr>\n",
       "  </tbody>\n",
       "</table>\n",
       "</div>"
      ]
     },
     "execution_count": 20,
     "metadata": {},
     "output_type": "execute_result"
    }
   ],
   "execution_count": 20
  },
  {
   "metadata": {
    "ExecuteTime": {
     "end_time": "2025-05-14T07:13:21.257421Z",
     "start_time": "2025-05-14T07:13:21.238075Z"
    }
   },
   "cell_type": "code",
   "source": "trips_df",
   "id": "a77090f20e884f1a",
   "outputs": [
    {
     "data": {
      "text/plain": [
       "        Unnamed: 0        customer  driver_id             end_time  \\\n",
       "0                0             iaf        570  2015-04-01 09:36:00   \n",
       "1                1             yes        822  2015-04-01 16:17:00   \n",
       "2                2           intel        437  2015-04-02 04:15:00   \n",
       "3                3             yes         70  2015-04-02 15:41:00   \n",
       "4                4  jerusalem_muni        446                  NaN   \n",
       "...            ...             ...        ...                  ...   \n",
       "318176          49             iaf        549  2015-09-25 18:41:00   \n",
       "318177          50             yes        398  2015-09-26 08:07:00   \n",
       "318178          51           tnuva        924  2015-09-26 16:13:00   \n",
       "318179          52            tara        884  2015-09-27 06:21:00   \n",
       "318180          53             yes        901  2015-09-29 04:01:00   \n",
       "\n",
       "                 km           start_time  \n",
       "0        672.312716  2015-04-01 01:55:00  \n",
       "1         96.048221  2015-04-01 15:12:00  \n",
       "2         90.727997  2015-04-02 02:49:00  \n",
       "3        216.595350  2015-04-02 12:41:00  \n",
       "4         96.437630  2015-04-03 00:15:00  \n",
       "...             ...                  ...  \n",
       "318176   338.646624  2015-09-25 14:02:00  \n",
       "318177   690.632760  2015-09-26 00:11:00  \n",
       "318178    74.532361  2015-09-26 15:12:00  \n",
       "318179   534.599297  2015-09-27 00:05:00  \n",
       "318180  3129.821745  2015-09-27 13:57:00  \n",
       "\n",
       "[318181 rows x 6 columns]"
      ],
      "text/html": [
       "<div>\n",
       "<style scoped>\n",
       "    .dataframe tbody tr th:only-of-type {\n",
       "        vertical-align: middle;\n",
       "    }\n",
       "\n",
       "    .dataframe tbody tr th {\n",
       "        vertical-align: top;\n",
       "    }\n",
       "\n",
       "    .dataframe thead th {\n",
       "        text-align: right;\n",
       "    }\n",
       "</style>\n",
       "<table border=\"1\" class=\"dataframe\">\n",
       "  <thead>\n",
       "    <tr style=\"text-align: right;\">\n",
       "      <th></th>\n",
       "      <th>Unnamed: 0</th>\n",
       "      <th>customer</th>\n",
       "      <th>driver_id</th>\n",
       "      <th>end_time</th>\n",
       "      <th>km</th>\n",
       "      <th>start_time</th>\n",
       "    </tr>\n",
       "  </thead>\n",
       "  <tbody>\n",
       "    <tr>\n",
       "      <th>0</th>\n",
       "      <td>0</td>\n",
       "      <td>iaf</td>\n",
       "      <td>570</td>\n",
       "      <td>2015-04-01 09:36:00</td>\n",
       "      <td>672.312716</td>\n",
       "      <td>2015-04-01 01:55:00</td>\n",
       "    </tr>\n",
       "    <tr>\n",
       "      <th>1</th>\n",
       "      <td>1</td>\n",
       "      <td>yes</td>\n",
       "      <td>822</td>\n",
       "      <td>2015-04-01 16:17:00</td>\n",
       "      <td>96.048221</td>\n",
       "      <td>2015-04-01 15:12:00</td>\n",
       "    </tr>\n",
       "    <tr>\n",
       "      <th>2</th>\n",
       "      <td>2</td>\n",
       "      <td>intel</td>\n",
       "      <td>437</td>\n",
       "      <td>2015-04-02 04:15:00</td>\n",
       "      <td>90.727997</td>\n",
       "      <td>2015-04-02 02:49:00</td>\n",
       "    </tr>\n",
       "    <tr>\n",
       "      <th>3</th>\n",
       "      <td>3</td>\n",
       "      <td>yes</td>\n",
       "      <td>70</td>\n",
       "      <td>2015-04-02 15:41:00</td>\n",
       "      <td>216.595350</td>\n",
       "      <td>2015-04-02 12:41:00</td>\n",
       "    </tr>\n",
       "    <tr>\n",
       "      <th>4</th>\n",
       "      <td>4</td>\n",
       "      <td>jerusalem_muni</td>\n",
       "      <td>446</td>\n",
       "      <td>NaN</td>\n",
       "      <td>96.437630</td>\n",
       "      <td>2015-04-03 00:15:00</td>\n",
       "    </tr>\n",
       "    <tr>\n",
       "      <th>...</th>\n",
       "      <td>...</td>\n",
       "      <td>...</td>\n",
       "      <td>...</td>\n",
       "      <td>...</td>\n",
       "      <td>...</td>\n",
       "      <td>...</td>\n",
       "    </tr>\n",
       "    <tr>\n",
       "      <th>318176</th>\n",
       "      <td>49</td>\n",
       "      <td>iaf</td>\n",
       "      <td>549</td>\n",
       "      <td>2015-09-25 18:41:00</td>\n",
       "      <td>338.646624</td>\n",
       "      <td>2015-09-25 14:02:00</td>\n",
       "    </tr>\n",
       "    <tr>\n",
       "      <th>318177</th>\n",
       "      <td>50</td>\n",
       "      <td>yes</td>\n",
       "      <td>398</td>\n",
       "      <td>2015-09-26 08:07:00</td>\n",
       "      <td>690.632760</td>\n",
       "      <td>2015-09-26 00:11:00</td>\n",
       "    </tr>\n",
       "    <tr>\n",
       "      <th>318178</th>\n",
       "      <td>51</td>\n",
       "      <td>tnuva</td>\n",
       "      <td>924</td>\n",
       "      <td>2015-09-26 16:13:00</td>\n",
       "      <td>74.532361</td>\n",
       "      <td>2015-09-26 15:12:00</td>\n",
       "    </tr>\n",
       "    <tr>\n",
       "      <th>318179</th>\n",
       "      <td>52</td>\n",
       "      <td>tara</td>\n",
       "      <td>884</td>\n",
       "      <td>2015-09-27 06:21:00</td>\n",
       "      <td>534.599297</td>\n",
       "      <td>2015-09-27 00:05:00</td>\n",
       "    </tr>\n",
       "    <tr>\n",
       "      <th>318180</th>\n",
       "      <td>53</td>\n",
       "      <td>yes</td>\n",
       "      <td>901</td>\n",
       "      <td>2015-09-29 04:01:00</td>\n",
       "      <td>3129.821745</td>\n",
       "      <td>2015-09-27 13:57:00</td>\n",
       "    </tr>\n",
       "  </tbody>\n",
       "</table>\n",
       "<p>318181 rows × 6 columns</p>\n",
       "</div>"
      ]
     },
     "execution_count": 21,
     "metadata": {},
     "output_type": "execute_result"
    }
   ],
   "execution_count": 21
  },
  {
   "metadata": {
    "ExecuteTime": {
     "end_time": "2025-05-14T07:13:21.584483Z",
     "start_time": "2025-05-14T07:13:21.535575Z"
    }
   },
   "cell_type": "code",
   "source": [
    "a = pd.unique(trips_df['customer'])\n",
    "b = pd.unique(taarif_df['customer'])\n",
    "a[~np.isin(a, b)]"
   ],
   "id": "7d286a6367871925",
   "outputs": [
    {
     "data": {
      "text/plain": [
       "array(['yes', 'aminach', 'hot'], dtype=object)"
      ]
     },
     "execution_count": 22,
     "metadata": {},
     "output_type": "execute_result"
    }
   ],
   "execution_count": 22
  },
  {
   "metadata": {
    "ExecuteTime": {
     "end_time": "2025-05-14T07:13:21.904890Z",
     "start_time": "2025-05-14T07:13:21.889387Z"
    }
   },
   "cell_type": "code",
   "source": "b[~np.isin(b, a)]",
   "id": "6dfed064e41ca134",
   "outputs": [
    {
     "data": {
      "text/plain": [
       "array([nan, 'mizranei_kfar_saba', 'dbs', 'telecommunication_ltd'],\n",
       "      dtype=object)"
      ]
     },
     "execution_count": 23,
     "metadata": {},
     "output_type": "execute_result"
    }
   ],
   "execution_count": 23
  },
  {
   "metadata": {},
   "cell_type": "markdown",
   "source": "Interesting, common sense can match those (see summary document).",
   "id": "fee0d4d3664046c3"
  },
  {
   "metadata": {},
   "cell_type": "markdown",
   "source": "## Trying to assemble the summary table",
   "id": "d316dd9b74e8792a"
  },
  {
   "metadata": {
    "ExecuteTime": {
     "end_time": "2025-05-14T07:13:22.119013Z",
     "start_time": "2025-05-14T07:13:22.096414Z"
    }
   },
   "cell_type": "code",
   "source": [
    "print(new_drivers_df.columns)\n",
    "print(old_drivers_df.columns)\n",
    "print(taarif_df.columns)\n",
    "print(trips_df.columns)"
   ],
   "id": "51c16ec2c3605fbf",
   "outputs": [
    {
     "name": "stdout",
     "output_type": "stream",
     "text": [
      "Index(['Unnamed: 0', 'birthdate', 'gender', 'id', 'vetek'], dtype='object')\n",
      "Index(['Unnamed: 0', 'birthdate', 'gender', 'id', 'vetek'], dtype='object')\n",
      "Index(['customer', 'basic_taarif', 'extra_milage', 'night_bonus',\n",
      "       'weekend_bonus'],\n",
      "      dtype='object')\n",
      "Index(['Unnamed: 0', 'customer', 'driver_id', 'end_time', 'km', 'start_time'], dtype='object')\n"
     ]
    }
   ],
   "execution_count": 24
  },
  {
   "metadata": {
    "ExecuteTime": {
     "end_time": "2025-05-14T07:13:22.316694Z",
     "start_time": "2025-05-14T07:13:22.275117Z"
    }
   },
   "cell_type": "code",
   "source": [
    "new_drivers_df['vetek'] = new_drivers_df['vetek'].apply(lambda x: x / 365)\n",
    "new_drivers_df.drop('Unnamed: 0', axis=1, inplace=True)\n",
    "old_drivers_df.drop('Unnamed: 0', axis=1, inplace=True)\n",
    "trips_df.drop('Unnamed: 0', axis=1, inplace=True)"
   ],
   "id": "9ca849d95bf1e606",
   "outputs": [],
   "execution_count": 25
  },
  {
   "metadata": {
    "ExecuteTime": {
     "end_time": "2025-05-14T07:13:22.397782Z",
     "start_time": "2025-05-14T07:13:22.389700Z"
    }
   },
   "cell_type": "code",
   "source": "taarif_df['customer']",
   "id": "6d04a39cc7c38e54",
   "outputs": [
    {
     "data": {
      "text/plain": [
       "0                       NaN\n",
       "1            jerusalem_muni\n",
       "2                     intel\n",
       "3        mizranei_kfar_saba\n",
       "4                       dbs\n",
       "5                     tnuva\n",
       "6                     angel\n",
       "7     telecommunication_ltd\n",
       "8                      osem\n",
       "9                       iaf\n",
       "10                     tara\n",
       "11              electricity\n",
       "12             bituch_leumi\n",
       "Name: customer, dtype: object"
      ]
     },
     "execution_count": 26,
     "metadata": {},
     "output_type": "execute_result"
    }
   ],
   "execution_count": 26
  },
  {
   "metadata": {
    "ExecuteTime": {
     "end_time": "2025-05-14T07:13:22.585042Z",
     "start_time": "2025-05-14T07:13:22.563956Z"
    }
   },
   "cell_type": "code",
   "source": [
    "taarif_df.replace({\n",
    "    'telecommunication_ltd': 'hot',\n",
    "    'dbs': 'yes',\n",
    "    'mizranei_kfar_saba': 'aminach'\n",
    "}, inplace=True)\n",
    "taarif_df.drop(axis=0, index=0, inplace=True)"
   ],
   "id": "8449279525d1c7b4",
   "outputs": [],
   "execution_count": 27
  },
  {
   "metadata": {
    "ExecuteTime": {
     "end_time": "2025-05-14T07:13:22.783012Z",
     "start_time": "2025-05-14T07:13:22.757520Z"
    }
   },
   "cell_type": "code",
   "source": "taarif_df",
   "id": "93914c3ea4460077",
   "outputs": [
    {
     "data": {
      "text/plain": [
       "          customer  basic_taarif  extra_milage  night_bonus  weekend_bonus\n",
       "1   jerusalem_muni           8.0          40.0         50.0           30.0\n",
       "2            intel           8.0           6.0         20.0            0.0\n",
       "3          aminach          15.0           4.0          0.0           25.0\n",
       "4              yes          10.0           8.0          0.0           25.0\n",
       "5            tnuva           6.0           3.0         80.0            0.0\n",
       "6            angel           1.0           5.0        100.0            0.0\n",
       "7              hot           7.0           7.0         10.0           40.0\n",
       "8             osem          12.0           4.0         20.0            0.0\n",
       "9              iaf          20.0          10.0        200.0          500.0\n",
       "10            tara           6.0           6.0         50.0           30.0\n",
       "11     electricity          10.0           NaN         40.0        70000.0\n",
       "12    bituch_leumi           NaN           NaN          NaN            NaN"
      ],
      "text/html": [
       "<div>\n",
       "<style scoped>\n",
       "    .dataframe tbody tr th:only-of-type {\n",
       "        vertical-align: middle;\n",
       "    }\n",
       "\n",
       "    .dataframe tbody tr th {\n",
       "        vertical-align: top;\n",
       "    }\n",
       "\n",
       "    .dataframe thead th {\n",
       "        text-align: right;\n",
       "    }\n",
       "</style>\n",
       "<table border=\"1\" class=\"dataframe\">\n",
       "  <thead>\n",
       "    <tr style=\"text-align: right;\">\n",
       "      <th></th>\n",
       "      <th>customer</th>\n",
       "      <th>basic_taarif</th>\n",
       "      <th>extra_milage</th>\n",
       "      <th>night_bonus</th>\n",
       "      <th>weekend_bonus</th>\n",
       "    </tr>\n",
       "  </thead>\n",
       "  <tbody>\n",
       "    <tr>\n",
       "      <th>1</th>\n",
       "      <td>jerusalem_muni</td>\n",
       "      <td>8.0</td>\n",
       "      <td>40.0</td>\n",
       "      <td>50.0</td>\n",
       "      <td>30.0</td>\n",
       "    </tr>\n",
       "    <tr>\n",
       "      <th>2</th>\n",
       "      <td>intel</td>\n",
       "      <td>8.0</td>\n",
       "      <td>6.0</td>\n",
       "      <td>20.0</td>\n",
       "      <td>0.0</td>\n",
       "    </tr>\n",
       "    <tr>\n",
       "      <th>3</th>\n",
       "      <td>aminach</td>\n",
       "      <td>15.0</td>\n",
       "      <td>4.0</td>\n",
       "      <td>0.0</td>\n",
       "      <td>25.0</td>\n",
       "    </tr>\n",
       "    <tr>\n",
       "      <th>4</th>\n",
       "      <td>yes</td>\n",
       "      <td>10.0</td>\n",
       "      <td>8.0</td>\n",
       "      <td>0.0</td>\n",
       "      <td>25.0</td>\n",
       "    </tr>\n",
       "    <tr>\n",
       "      <th>5</th>\n",
       "      <td>tnuva</td>\n",
       "      <td>6.0</td>\n",
       "      <td>3.0</td>\n",
       "      <td>80.0</td>\n",
       "      <td>0.0</td>\n",
       "    </tr>\n",
       "    <tr>\n",
       "      <th>6</th>\n",
       "      <td>angel</td>\n",
       "      <td>1.0</td>\n",
       "      <td>5.0</td>\n",
       "      <td>100.0</td>\n",
       "      <td>0.0</td>\n",
       "    </tr>\n",
       "    <tr>\n",
       "      <th>7</th>\n",
       "      <td>hot</td>\n",
       "      <td>7.0</td>\n",
       "      <td>7.0</td>\n",
       "      <td>10.0</td>\n",
       "      <td>40.0</td>\n",
       "    </tr>\n",
       "    <tr>\n",
       "      <th>8</th>\n",
       "      <td>osem</td>\n",
       "      <td>12.0</td>\n",
       "      <td>4.0</td>\n",
       "      <td>20.0</td>\n",
       "      <td>0.0</td>\n",
       "    </tr>\n",
       "    <tr>\n",
       "      <th>9</th>\n",
       "      <td>iaf</td>\n",
       "      <td>20.0</td>\n",
       "      <td>10.0</td>\n",
       "      <td>200.0</td>\n",
       "      <td>500.0</td>\n",
       "    </tr>\n",
       "    <tr>\n",
       "      <th>10</th>\n",
       "      <td>tara</td>\n",
       "      <td>6.0</td>\n",
       "      <td>6.0</td>\n",
       "      <td>50.0</td>\n",
       "      <td>30.0</td>\n",
       "    </tr>\n",
       "    <tr>\n",
       "      <th>11</th>\n",
       "      <td>electricity</td>\n",
       "      <td>10.0</td>\n",
       "      <td>NaN</td>\n",
       "      <td>40.0</td>\n",
       "      <td>70000.0</td>\n",
       "    </tr>\n",
       "    <tr>\n",
       "      <th>12</th>\n",
       "      <td>bituch_leumi</td>\n",
       "      <td>NaN</td>\n",
       "      <td>NaN</td>\n",
       "      <td>NaN</td>\n",
       "      <td>NaN</td>\n",
       "    </tr>\n",
       "  </tbody>\n",
       "</table>\n",
       "</div>"
      ]
     },
     "execution_count": 28,
     "metadata": {},
     "output_type": "execute_result"
    }
   ],
   "execution_count": 28
  },
  {
   "metadata": {
    "ExecuteTime": {
     "end_time": "2025-05-14T07:13:23.088830Z",
     "start_time": "2025-05-14T07:13:23.074661Z"
    }
   },
   "cell_type": "code",
   "source": "trips_df.head()",
   "id": "627e056443b85c68",
   "outputs": [
    {
     "data": {
      "text/plain": [
       "         customer  driver_id             end_time          km  \\\n",
       "0             iaf        570  2015-04-01 09:36:00  672.312716   \n",
       "1             yes        822  2015-04-01 16:17:00   96.048221   \n",
       "2           intel        437  2015-04-02 04:15:00   90.727997   \n",
       "3             yes         70  2015-04-02 15:41:00  216.595350   \n",
       "4  jerusalem_muni        446                  NaN   96.437630   \n",
       "\n",
       "            start_time  \n",
       "0  2015-04-01 01:55:00  \n",
       "1  2015-04-01 15:12:00  \n",
       "2  2015-04-02 02:49:00  \n",
       "3  2015-04-02 12:41:00  \n",
       "4  2015-04-03 00:15:00  "
      ],
      "text/html": [
       "<div>\n",
       "<style scoped>\n",
       "    .dataframe tbody tr th:only-of-type {\n",
       "        vertical-align: middle;\n",
       "    }\n",
       "\n",
       "    .dataframe tbody tr th {\n",
       "        vertical-align: top;\n",
       "    }\n",
       "\n",
       "    .dataframe thead th {\n",
       "        text-align: right;\n",
       "    }\n",
       "</style>\n",
       "<table border=\"1\" class=\"dataframe\">\n",
       "  <thead>\n",
       "    <tr style=\"text-align: right;\">\n",
       "      <th></th>\n",
       "      <th>customer</th>\n",
       "      <th>driver_id</th>\n",
       "      <th>end_time</th>\n",
       "      <th>km</th>\n",
       "      <th>start_time</th>\n",
       "    </tr>\n",
       "  </thead>\n",
       "  <tbody>\n",
       "    <tr>\n",
       "      <th>0</th>\n",
       "      <td>iaf</td>\n",
       "      <td>570</td>\n",
       "      <td>2015-04-01 09:36:00</td>\n",
       "      <td>672.312716</td>\n",
       "      <td>2015-04-01 01:55:00</td>\n",
       "    </tr>\n",
       "    <tr>\n",
       "      <th>1</th>\n",
       "      <td>yes</td>\n",
       "      <td>822</td>\n",
       "      <td>2015-04-01 16:17:00</td>\n",
       "      <td>96.048221</td>\n",
       "      <td>2015-04-01 15:12:00</td>\n",
       "    </tr>\n",
       "    <tr>\n",
       "      <th>2</th>\n",
       "      <td>intel</td>\n",
       "      <td>437</td>\n",
       "      <td>2015-04-02 04:15:00</td>\n",
       "      <td>90.727997</td>\n",
       "      <td>2015-04-02 02:49:00</td>\n",
       "    </tr>\n",
       "    <tr>\n",
       "      <th>3</th>\n",
       "      <td>yes</td>\n",
       "      <td>70</td>\n",
       "      <td>2015-04-02 15:41:00</td>\n",
       "      <td>216.595350</td>\n",
       "      <td>2015-04-02 12:41:00</td>\n",
       "    </tr>\n",
       "    <tr>\n",
       "      <th>4</th>\n",
       "      <td>jerusalem_muni</td>\n",
       "      <td>446</td>\n",
       "      <td>NaN</td>\n",
       "      <td>96.437630</td>\n",
       "      <td>2015-04-03 00:15:00</td>\n",
       "    </tr>\n",
       "  </tbody>\n",
       "</table>\n",
       "</div>"
      ]
     },
     "execution_count": 29,
     "metadata": {},
     "output_type": "execute_result"
    }
   ],
   "execution_count": 29
  },
  {
   "metadata": {
    "ExecuteTime": {
     "end_time": "2025-05-14T09:25:26.811074Z",
     "start_time": "2025-05-14T09:25:22.473495Z"
    }
   },
   "cell_type": "code",
   "source": "calc_nan_df(trips_df)",
   "id": "53d5edf771feb37",
   "outputs": [
    {
     "data": {
      "text/plain": [
       "       Column  NaN Count  NaN Ratio\n",
       "0  start_time       3149       0.01\n",
       "1    end_time       3083       0.01"
      ],
      "text/html": [
       "<div>\n",
       "<style scoped>\n",
       "    .dataframe tbody tr th:only-of-type {\n",
       "        vertical-align: middle;\n",
       "    }\n",
       "\n",
       "    .dataframe tbody tr th {\n",
       "        vertical-align: top;\n",
       "    }\n",
       "\n",
       "    .dataframe thead th {\n",
       "        text-align: right;\n",
       "    }\n",
       "</style>\n",
       "<table border=\"1\" class=\"dataframe\">\n",
       "  <thead>\n",
       "    <tr style=\"text-align: right;\">\n",
       "      <th></th>\n",
       "      <th>Column</th>\n",
       "      <th>NaN Count</th>\n",
       "      <th>NaN Ratio</th>\n",
       "    </tr>\n",
       "  </thead>\n",
       "  <tbody>\n",
       "    <tr>\n",
       "      <th>0</th>\n",
       "      <td>start_time</td>\n",
       "      <td>3149</td>\n",
       "      <td>0.01</td>\n",
       "    </tr>\n",
       "    <tr>\n",
       "      <th>1</th>\n",
       "      <td>end_time</td>\n",
       "      <td>3083</td>\n",
       "      <td>0.01</td>\n",
       "    </tr>\n",
       "  </tbody>\n",
       "</table>\n",
       "</div>"
      ]
     },
     "execution_count": 30,
     "metadata": {},
     "output_type": "execute_result"
    }
   ],
   "execution_count": 30
  },
  {
   "metadata": {
    "ExecuteTime": {
     "end_time": "2025-05-14T09:25:28.101261Z",
     "start_time": "2025-05-14T09:25:27.056730Z"
    }
   },
   "cell_type": "code",
   "source": "calc_nan_df(trips_df[trips_df['start_time'].isna()])",
   "id": "76f3cec543d41936",
   "outputs": [
    {
     "data": {
      "text/plain": [
       "       Column  NaN Count  NaN Ratio\n",
       "0  start_time       3149       1.00\n",
       "1    end_time         43       0.01"
      ],
      "text/html": [
       "<div>\n",
       "<style scoped>\n",
       "    .dataframe tbody tr th:only-of-type {\n",
       "        vertical-align: middle;\n",
       "    }\n",
       "\n",
       "    .dataframe tbody tr th {\n",
       "        vertical-align: top;\n",
       "    }\n",
       "\n",
       "    .dataframe thead th {\n",
       "        text-align: right;\n",
       "    }\n",
       "</style>\n",
       "<table border=\"1\" class=\"dataframe\">\n",
       "  <thead>\n",
       "    <tr style=\"text-align: right;\">\n",
       "      <th></th>\n",
       "      <th>Column</th>\n",
       "      <th>NaN Count</th>\n",
       "      <th>NaN Ratio</th>\n",
       "    </tr>\n",
       "  </thead>\n",
       "  <tbody>\n",
       "    <tr>\n",
       "      <th>0</th>\n",
       "      <td>start_time</td>\n",
       "      <td>3149</td>\n",
       "      <td>1.00</td>\n",
       "    </tr>\n",
       "    <tr>\n",
       "      <th>1</th>\n",
       "      <td>end_time</td>\n",
       "      <td>43</td>\n",
       "      <td>0.01</td>\n",
       "    </tr>\n",
       "  </tbody>\n",
       "</table>\n",
       "</div>"
      ]
     },
     "execution_count": 31,
     "metadata": {},
     "output_type": "execute_result"
    }
   ],
   "execution_count": 31
  },
  {
   "metadata": {
    "ExecuteTime": {
     "end_time": "2025-05-14T09:25:31.951083Z",
     "start_time": "2025-05-14T09:25:31.909636Z"
    }
   },
   "cell_type": "code",
   "source": "calc_nan_df(trips_df[trips_df['end_time'].isna()])",
   "id": "5eb3e86e51cfc77c",
   "outputs": [
    {
     "data": {
      "text/plain": [
       "       Column  NaN Count  NaN Ratio\n",
       "0    end_time       3083       1.00\n",
       "1  start_time         43       0.01"
      ],
      "text/html": [
       "<div>\n",
       "<style scoped>\n",
       "    .dataframe tbody tr th:only-of-type {\n",
       "        vertical-align: middle;\n",
       "    }\n",
       "\n",
       "    .dataframe tbody tr th {\n",
       "        vertical-align: top;\n",
       "    }\n",
       "\n",
       "    .dataframe thead th {\n",
       "        text-align: right;\n",
       "    }\n",
       "</style>\n",
       "<table border=\"1\" class=\"dataframe\">\n",
       "  <thead>\n",
       "    <tr style=\"text-align: right;\">\n",
       "      <th></th>\n",
       "      <th>Column</th>\n",
       "      <th>NaN Count</th>\n",
       "      <th>NaN Ratio</th>\n",
       "    </tr>\n",
       "  </thead>\n",
       "  <tbody>\n",
       "    <tr>\n",
       "      <th>0</th>\n",
       "      <td>end_time</td>\n",
       "      <td>3083</td>\n",
       "      <td>1.00</td>\n",
       "    </tr>\n",
       "    <tr>\n",
       "      <th>1</th>\n",
       "      <td>start_time</td>\n",
       "      <td>43</td>\n",
       "      <td>0.01</td>\n",
       "    </tr>\n",
       "  </tbody>\n",
       "</table>\n",
       "</div>"
      ]
     },
     "execution_count": 32,
     "metadata": {},
     "output_type": "execute_result"
    }
   ],
   "execution_count": 32
  },
  {
   "metadata": {
    "ExecuteTime": {
     "end_time": "2025-05-14T09:46:46.317437Z",
     "start_time": "2025-05-14T09:46:44.080785Z"
    }
   },
   "cell_type": "code",
   "source": [
    "trips_df['end_time'] = trips_df['end_time'].astype(\"datetime64[ns]\")\n",
    "trips_df['start_time'] = trips_df['start_time'].astype(\"datetime64[ns]\")"
   ],
   "id": "165314b6e3b2b249",
   "outputs": [],
   "execution_count": 40
  },
  {
   "metadata": {
    "ExecuteTime": {
     "end_time": "2025-05-14T09:54:59.530597Z",
     "start_time": "2025-05-14T09:54:59.519444Z"
    }
   },
   "cell_type": "code",
   "source": [
    "a = trips_df['end_time'][0] - trips_df['start_time'][0]\n",
    "a.total_seconds() / 3600"
   ],
   "id": "50d24380ef57d6a9",
   "outputs": [
    {
     "data": {
      "text/plain": [
       "7.683333333333334"
      ]
     },
     "execution_count": 45,
     "metadata": {},
     "output_type": "execute_result"
    }
   ],
   "execution_count": 45
  },
  {
   "metadata": {
    "ExecuteTime": {
     "end_time": "2025-05-14T11:23:25.427006Z",
     "start_time": "2025-05-14T11:23:25.407682Z"
    }
   },
   "cell_type": "code",
   "source": "old_drivers_df.iloc[[89,106,108], :]",
   "id": "f7bd7e5bc6bdd0e9",
   "outputs": [
    {
     "data": {
      "text/plain": [
       "      birthdate gender   id  vetek\n",
       "89   01/01/1900      M  572    7.6\n",
       "106         NaN      M  779   18.0\n",
       "108  25/04/1970   male  821    4.4"
      ],
      "text/html": [
       "<div>\n",
       "<style scoped>\n",
       "    .dataframe tbody tr th:only-of-type {\n",
       "        vertical-align: middle;\n",
       "    }\n",
       "\n",
       "    .dataframe tbody tr th {\n",
       "        vertical-align: top;\n",
       "    }\n",
       "\n",
       "    .dataframe thead th {\n",
       "        text-align: right;\n",
       "    }\n",
       "</style>\n",
       "<table border=\"1\" class=\"dataframe\">\n",
       "  <thead>\n",
       "    <tr style=\"text-align: right;\">\n",
       "      <th></th>\n",
       "      <th>birthdate</th>\n",
       "      <th>gender</th>\n",
       "      <th>id</th>\n",
       "      <th>vetek</th>\n",
       "    </tr>\n",
       "  </thead>\n",
       "  <tbody>\n",
       "    <tr>\n",
       "      <th>89</th>\n",
       "      <td>01/01/1900</td>\n",
       "      <td>M</td>\n",
       "      <td>572</td>\n",
       "      <td>7.6</td>\n",
       "    </tr>\n",
       "    <tr>\n",
       "      <th>106</th>\n",
       "      <td>NaN</td>\n",
       "      <td>M</td>\n",
       "      <td>779</td>\n",
       "      <td>18.0</td>\n",
       "    </tr>\n",
       "    <tr>\n",
       "      <th>108</th>\n",
       "      <td>25/04/1970</td>\n",
       "      <td>male</td>\n",
       "      <td>821</td>\n",
       "      <td>4.4</td>\n",
       "    </tr>\n",
       "  </tbody>\n",
       "</table>\n",
       "</div>"
      ]
     },
     "execution_count": 53,
     "metadata": {},
     "output_type": "execute_result"
    }
   ],
   "execution_count": 53
  },
  {
   "metadata": {
    "ExecuteTime": {
     "end_time": "2025-05-14T11:23:05.585330Z",
     "start_time": "2025-05-14T11:23:05.564587Z"
    }
   },
   "cell_type": "code",
   "source": "old_drivers_df[old_drivers_df['birthdate'].isna()]",
   "id": "2a35350b2406a679",
   "outputs": [
    {
     "data": {
      "text/plain": [
       "    birthdate gender   id  vetek\n",
       "106       NaN      M  779   18.0\n",
       "238       NaN      M  883   15.3\n",
       "315       NaN      M  388    1.6\n",
       "425       NaN      M  547    7.5\n",
       "490       NaN      m  397   12.9\n",
       "570       NaN      M  785   14.7\n",
       "601       NaN      M  871    7.2\n",
       "608       NaN      M  347   15.2\n",
       "655       NaN      M  668   14.9\n",
       "801       NaN      M  690    8.8"
      ],
      "text/html": [
       "<div>\n",
       "<style scoped>\n",
       "    .dataframe tbody tr th:only-of-type {\n",
       "        vertical-align: middle;\n",
       "    }\n",
       "\n",
       "    .dataframe tbody tr th {\n",
       "        vertical-align: top;\n",
       "    }\n",
       "\n",
       "    .dataframe thead th {\n",
       "        text-align: right;\n",
       "    }\n",
       "</style>\n",
       "<table border=\"1\" class=\"dataframe\">\n",
       "  <thead>\n",
       "    <tr style=\"text-align: right;\">\n",
       "      <th></th>\n",
       "      <th>birthdate</th>\n",
       "      <th>gender</th>\n",
       "      <th>id</th>\n",
       "      <th>vetek</th>\n",
       "    </tr>\n",
       "  </thead>\n",
       "  <tbody>\n",
       "    <tr>\n",
       "      <th>106</th>\n",
       "      <td>NaN</td>\n",
       "      <td>M</td>\n",
       "      <td>779</td>\n",
       "      <td>18.0</td>\n",
       "    </tr>\n",
       "    <tr>\n",
       "      <th>238</th>\n",
       "      <td>NaN</td>\n",
       "      <td>M</td>\n",
       "      <td>883</td>\n",
       "      <td>15.3</td>\n",
       "    </tr>\n",
       "    <tr>\n",
       "      <th>315</th>\n",
       "      <td>NaN</td>\n",
       "      <td>M</td>\n",
       "      <td>388</td>\n",
       "      <td>1.6</td>\n",
       "    </tr>\n",
       "    <tr>\n",
       "      <th>425</th>\n",
       "      <td>NaN</td>\n",
       "      <td>M</td>\n",
       "      <td>547</td>\n",
       "      <td>7.5</td>\n",
       "    </tr>\n",
       "    <tr>\n",
       "      <th>490</th>\n",
       "      <td>NaN</td>\n",
       "      <td>m</td>\n",
       "      <td>397</td>\n",
       "      <td>12.9</td>\n",
       "    </tr>\n",
       "    <tr>\n",
       "      <th>570</th>\n",
       "      <td>NaN</td>\n",
       "      <td>M</td>\n",
       "      <td>785</td>\n",
       "      <td>14.7</td>\n",
       "    </tr>\n",
       "    <tr>\n",
       "      <th>601</th>\n",
       "      <td>NaN</td>\n",
       "      <td>M</td>\n",
       "      <td>871</td>\n",
       "      <td>7.2</td>\n",
       "    </tr>\n",
       "    <tr>\n",
       "      <th>608</th>\n",
       "      <td>NaN</td>\n",
       "      <td>M</td>\n",
       "      <td>347</td>\n",
       "      <td>15.2</td>\n",
       "    </tr>\n",
       "    <tr>\n",
       "      <th>655</th>\n",
       "      <td>NaN</td>\n",
       "      <td>M</td>\n",
       "      <td>668</td>\n",
       "      <td>14.9</td>\n",
       "    </tr>\n",
       "    <tr>\n",
       "      <th>801</th>\n",
       "      <td>NaN</td>\n",
       "      <td>M</td>\n",
       "      <td>690</td>\n",
       "      <td>8.8</td>\n",
       "    </tr>\n",
       "  </tbody>\n",
       "</table>\n",
       "</div>"
      ]
     },
     "execution_count": 50,
     "metadata": {},
     "output_type": "execute_result"
    }
   ],
   "execution_count": 50
  },
  {
   "metadata": {
    "ExecuteTime": {
     "end_time": "2025-05-14T11:51:10.957231Z",
     "start_time": "2025-05-14T11:51:10.944336Z"
    }
   },
   "cell_type": "code",
   "source": "taarif_df.iloc[:2]",
   "id": "910bfa22e66b7bc5",
   "outputs": [
    {
     "data": {
      "text/plain": [
       "         customer  basic_taarif  extra_milage  night_bonus  weekend_bonus\n",
       "1  jerusalem_muni           8.0          40.0         50.0           30.0\n",
       "2           intel           8.0           6.0         20.0            0.0"
      ],
      "text/html": [
       "<div>\n",
       "<style scoped>\n",
       "    .dataframe tbody tr th:only-of-type {\n",
       "        vertical-align: middle;\n",
       "    }\n",
       "\n",
       "    .dataframe tbody tr th {\n",
       "        vertical-align: top;\n",
       "    }\n",
       "\n",
       "    .dataframe thead th {\n",
       "        text-align: right;\n",
       "    }\n",
       "</style>\n",
       "<table border=\"1\" class=\"dataframe\">\n",
       "  <thead>\n",
       "    <tr style=\"text-align: right;\">\n",
       "      <th></th>\n",
       "      <th>customer</th>\n",
       "      <th>basic_taarif</th>\n",
       "      <th>extra_milage</th>\n",
       "      <th>night_bonus</th>\n",
       "      <th>weekend_bonus</th>\n",
       "    </tr>\n",
       "  </thead>\n",
       "  <tbody>\n",
       "    <tr>\n",
       "      <th>1</th>\n",
       "      <td>jerusalem_muni</td>\n",
       "      <td>8.0</td>\n",
       "      <td>40.0</td>\n",
       "      <td>50.0</td>\n",
       "      <td>30.0</td>\n",
       "    </tr>\n",
       "    <tr>\n",
       "      <th>2</th>\n",
       "      <td>intel</td>\n",
       "      <td>8.0</td>\n",
       "      <td>6.0</td>\n",
       "      <td>20.0</td>\n",
       "      <td>0.0</td>\n",
       "    </tr>\n",
       "  </tbody>\n",
       "</table>\n",
       "</div>"
      ]
     },
     "execution_count": 60,
     "metadata": {},
     "output_type": "execute_result"
    }
   ],
   "execution_count": 60
  },
  {
   "metadata": {
    "ExecuteTime": {
     "end_time": "2025-05-14T12:01:06.719284Z",
     "start_time": "2025-05-14T12:01:06.698901Z"
    }
   },
   "cell_type": "code",
   "source": "trips_df.iloc[[175, 174, 4, 12509], :]",
   "id": "969a0a3d8265628a",
   "outputs": [
    {
     "data": {
      "text/plain": [
       "             customer  driver_id            end_time          km  \\\n",
       "175             tnuva        197 2015-04-07 21:37:00  524.353643   \n",
       "174             tnuva        984 2015-04-06 11:01:00  524.839597   \n",
       "4      jerusalem_muni        446                 NaT   96.437630   \n",
       "12509             yes        653                 NaT  454.815943   \n",
       "\n",
       "               start_time  \n",
       "175   2015-04-07 14:40:00  \n",
       "174                   NaT  \n",
       "4     2015-04-03 00:15:00  \n",
       "12509                 NaT  "
      ],
      "text/html": [
       "<div>\n",
       "<style scoped>\n",
       "    .dataframe tbody tr th:only-of-type {\n",
       "        vertical-align: middle;\n",
       "    }\n",
       "\n",
       "    .dataframe tbody tr th {\n",
       "        vertical-align: top;\n",
       "    }\n",
       "\n",
       "    .dataframe thead th {\n",
       "        text-align: right;\n",
       "    }\n",
       "</style>\n",
       "<table border=\"1\" class=\"dataframe\">\n",
       "  <thead>\n",
       "    <tr style=\"text-align: right;\">\n",
       "      <th></th>\n",
       "      <th>customer</th>\n",
       "      <th>driver_id</th>\n",
       "      <th>end_time</th>\n",
       "      <th>km</th>\n",
       "      <th>start_time</th>\n",
       "    </tr>\n",
       "  </thead>\n",
       "  <tbody>\n",
       "    <tr>\n",
       "      <th>175</th>\n",
       "      <td>tnuva</td>\n",
       "      <td>197</td>\n",
       "      <td>2015-04-07 21:37:00</td>\n",
       "      <td>524.353643</td>\n",
       "      <td>2015-04-07 14:40:00</td>\n",
       "    </tr>\n",
       "    <tr>\n",
       "      <th>174</th>\n",
       "      <td>tnuva</td>\n",
       "      <td>984</td>\n",
       "      <td>2015-04-06 11:01:00</td>\n",
       "      <td>524.839597</td>\n",
       "      <td>NaT</td>\n",
       "    </tr>\n",
       "    <tr>\n",
       "      <th>4</th>\n",
       "      <td>jerusalem_muni</td>\n",
       "      <td>446</td>\n",
       "      <td>NaT</td>\n",
       "      <td>96.437630</td>\n",
       "      <td>2015-04-03 00:15:00</td>\n",
       "    </tr>\n",
       "    <tr>\n",
       "      <th>12509</th>\n",
       "      <td>yes</td>\n",
       "      <td>653</td>\n",
       "      <td>NaT</td>\n",
       "      <td>454.815943</td>\n",
       "      <td>NaT</td>\n",
       "    </tr>\n",
       "  </tbody>\n",
       "</table>\n",
       "</div>"
      ]
     },
     "execution_count": 69,
     "metadata": {},
     "output_type": "execute_result"
    }
   ],
   "execution_count": 69
  },
  {
   "metadata": {
    "ExecuteTime": {
     "end_time": "2025-05-14T12:00:21.920244Z",
     "start_time": "2025-05-14T12:00:21.876481Z"
    }
   },
   "cell_type": "code",
   "source": "trips_df[trips_df['start_time'].isna()][trips_df['end_time'].isna()]",
   "id": "f32ba0133e38fb86",
   "outputs": [
    {
     "name": "stderr",
     "output_type": "stream",
     "text": [
      "C:\\Users\\user\\AppData\\Local\\Temp\\ipykernel_12756\\2428092740.py:1: UserWarning: Boolean Series key will be reindexed to match DataFrame index.\n",
      "  trips_df[trips_df['start_time'].isna()][trips_df['end_time'].isna()]\n"
     ]
    },
    {
     "data": {
      "text/plain": [
       "              customer  driver_id end_time          km start_time\n",
       "12509              yes        653      NaT  454.815943        NaT\n",
       "22331              yes        643      NaT   57.974586        NaT\n",
       "23663             osem        705      NaT  197.556857        NaT\n",
       "24202            intel         52      NaT   99.175149        NaT\n",
       "32119            tnuva        295      NaT  168.653256        NaT\n",
       "45825            tnuva        414      NaT  630.036986        NaT\n",
       "47956   jerusalem_muni        201      NaT  122.775826        NaT\n",
       "56289     bituch_leumi        136      NaT  285.179849        NaT\n",
       "81486              iaf        775      NaT  196.836166        NaT\n",
       "90347              hot        620      NaT   91.182702        NaT\n",
       "94649     bituch_leumi        824      NaT  315.211074        NaT\n",
       "102296             hot        413      NaT  565.589929        NaT\n",
       "104358            tara        111      NaT  159.393494        NaT\n",
       "109886           intel        937      NaT  417.890124        NaT\n",
       "115025    bituch_leumi        263      NaT   60.637626        NaT\n",
       "129825           angel        871      NaT  232.865038        NaT\n",
       "132762           angel        388      NaT  487.070273        NaT\n",
       "133642            osem        822      NaT  269.714753        NaT\n",
       "142679             hot        269      NaT  154.005286        NaT\n",
       "150904    bituch_leumi        831      NaT  192.463909        NaT\n",
       "152679         aminach        459      NaT   63.947100        NaT\n",
       "167015    bituch_leumi        881      NaT   78.800132        NaT\n",
       "170553     electricity        142      NaT  335.282134        NaT\n",
       "172000             yes        874      NaT  267.693543        NaT\n",
       "180778           angel        983      NaT  241.890510        NaT\n",
       "183395         aminach         29      NaT  103.267804        NaT\n",
       "188488            tara        967      NaT  464.306954        NaT\n",
       "202619            osem        172      NaT  343.734406        NaT\n",
       "215401  jerusalem_muni        382      NaT  436.787136        NaT\n",
       "219151  jerusalem_muni        987      NaT  219.092774        NaT\n",
       "233741           intel        333      NaT  163.358318        NaT\n",
       "234934           intel         62      NaT  414.567563        NaT\n",
       "235465             yes        372      NaT  515.164795        NaT\n",
       "237997     electricity        249      NaT  443.003059        NaT\n",
       "239653         aminach        687      NaT  610.153330        NaT\n",
       "273686             yes        231      NaT  243.788259        NaT\n",
       "279635         aminach        484      NaT  274.592819        NaT\n",
       "280393  jerusalem_muni        352      NaT  181.548188        NaT\n",
       "298371           tnuva         60      NaT  213.991168        NaT\n",
       "299059  jerusalem_muni         33      NaT  472.291232        NaT\n",
       "301739            tara        964      NaT  144.981437        NaT\n",
       "304815    bituch_leumi        350      NaT  384.918408        NaT\n",
       "316311    bituch_leumi        288      NaT  138.443206        NaT"
      ],
      "text/html": [
       "<div>\n",
       "<style scoped>\n",
       "    .dataframe tbody tr th:only-of-type {\n",
       "        vertical-align: middle;\n",
       "    }\n",
       "\n",
       "    .dataframe tbody tr th {\n",
       "        vertical-align: top;\n",
       "    }\n",
       "\n",
       "    .dataframe thead th {\n",
       "        text-align: right;\n",
       "    }\n",
       "</style>\n",
       "<table border=\"1\" class=\"dataframe\">\n",
       "  <thead>\n",
       "    <tr style=\"text-align: right;\">\n",
       "      <th></th>\n",
       "      <th>customer</th>\n",
       "      <th>driver_id</th>\n",
       "      <th>end_time</th>\n",
       "      <th>km</th>\n",
       "      <th>start_time</th>\n",
       "    </tr>\n",
       "  </thead>\n",
       "  <tbody>\n",
       "    <tr>\n",
       "      <th>12509</th>\n",
       "      <td>yes</td>\n",
       "      <td>653</td>\n",
       "      <td>NaT</td>\n",
       "      <td>454.815943</td>\n",
       "      <td>NaT</td>\n",
       "    </tr>\n",
       "    <tr>\n",
       "      <th>22331</th>\n",
       "      <td>yes</td>\n",
       "      <td>643</td>\n",
       "      <td>NaT</td>\n",
       "      <td>57.974586</td>\n",
       "      <td>NaT</td>\n",
       "    </tr>\n",
       "    <tr>\n",
       "      <th>23663</th>\n",
       "      <td>osem</td>\n",
       "      <td>705</td>\n",
       "      <td>NaT</td>\n",
       "      <td>197.556857</td>\n",
       "      <td>NaT</td>\n",
       "    </tr>\n",
       "    <tr>\n",
       "      <th>24202</th>\n",
       "      <td>intel</td>\n",
       "      <td>52</td>\n",
       "      <td>NaT</td>\n",
       "      <td>99.175149</td>\n",
       "      <td>NaT</td>\n",
       "    </tr>\n",
       "    <tr>\n",
       "      <th>32119</th>\n",
       "      <td>tnuva</td>\n",
       "      <td>295</td>\n",
       "      <td>NaT</td>\n",
       "      <td>168.653256</td>\n",
       "      <td>NaT</td>\n",
       "    </tr>\n",
       "    <tr>\n",
       "      <th>45825</th>\n",
       "      <td>tnuva</td>\n",
       "      <td>414</td>\n",
       "      <td>NaT</td>\n",
       "      <td>630.036986</td>\n",
       "      <td>NaT</td>\n",
       "    </tr>\n",
       "    <tr>\n",
       "      <th>47956</th>\n",
       "      <td>jerusalem_muni</td>\n",
       "      <td>201</td>\n",
       "      <td>NaT</td>\n",
       "      <td>122.775826</td>\n",
       "      <td>NaT</td>\n",
       "    </tr>\n",
       "    <tr>\n",
       "      <th>56289</th>\n",
       "      <td>bituch_leumi</td>\n",
       "      <td>136</td>\n",
       "      <td>NaT</td>\n",
       "      <td>285.179849</td>\n",
       "      <td>NaT</td>\n",
       "    </tr>\n",
       "    <tr>\n",
       "      <th>81486</th>\n",
       "      <td>iaf</td>\n",
       "      <td>775</td>\n",
       "      <td>NaT</td>\n",
       "      <td>196.836166</td>\n",
       "      <td>NaT</td>\n",
       "    </tr>\n",
       "    <tr>\n",
       "      <th>90347</th>\n",
       "      <td>hot</td>\n",
       "      <td>620</td>\n",
       "      <td>NaT</td>\n",
       "      <td>91.182702</td>\n",
       "      <td>NaT</td>\n",
       "    </tr>\n",
       "    <tr>\n",
       "      <th>94649</th>\n",
       "      <td>bituch_leumi</td>\n",
       "      <td>824</td>\n",
       "      <td>NaT</td>\n",
       "      <td>315.211074</td>\n",
       "      <td>NaT</td>\n",
       "    </tr>\n",
       "    <tr>\n",
       "      <th>102296</th>\n",
       "      <td>hot</td>\n",
       "      <td>413</td>\n",
       "      <td>NaT</td>\n",
       "      <td>565.589929</td>\n",
       "      <td>NaT</td>\n",
       "    </tr>\n",
       "    <tr>\n",
       "      <th>104358</th>\n",
       "      <td>tara</td>\n",
       "      <td>111</td>\n",
       "      <td>NaT</td>\n",
       "      <td>159.393494</td>\n",
       "      <td>NaT</td>\n",
       "    </tr>\n",
       "    <tr>\n",
       "      <th>109886</th>\n",
       "      <td>intel</td>\n",
       "      <td>937</td>\n",
       "      <td>NaT</td>\n",
       "      <td>417.890124</td>\n",
       "      <td>NaT</td>\n",
       "    </tr>\n",
       "    <tr>\n",
       "      <th>115025</th>\n",
       "      <td>bituch_leumi</td>\n",
       "      <td>263</td>\n",
       "      <td>NaT</td>\n",
       "      <td>60.637626</td>\n",
       "      <td>NaT</td>\n",
       "    </tr>\n",
       "    <tr>\n",
       "      <th>129825</th>\n",
       "      <td>angel</td>\n",
       "      <td>871</td>\n",
       "      <td>NaT</td>\n",
       "      <td>232.865038</td>\n",
       "      <td>NaT</td>\n",
       "    </tr>\n",
       "    <tr>\n",
       "      <th>132762</th>\n",
       "      <td>angel</td>\n",
       "      <td>388</td>\n",
       "      <td>NaT</td>\n",
       "      <td>487.070273</td>\n",
       "      <td>NaT</td>\n",
       "    </tr>\n",
       "    <tr>\n",
       "      <th>133642</th>\n",
       "      <td>osem</td>\n",
       "      <td>822</td>\n",
       "      <td>NaT</td>\n",
       "      <td>269.714753</td>\n",
       "      <td>NaT</td>\n",
       "    </tr>\n",
       "    <tr>\n",
       "      <th>142679</th>\n",
       "      <td>hot</td>\n",
       "      <td>269</td>\n",
       "      <td>NaT</td>\n",
       "      <td>154.005286</td>\n",
       "      <td>NaT</td>\n",
       "    </tr>\n",
       "    <tr>\n",
       "      <th>150904</th>\n",
       "      <td>bituch_leumi</td>\n",
       "      <td>831</td>\n",
       "      <td>NaT</td>\n",
       "      <td>192.463909</td>\n",
       "      <td>NaT</td>\n",
       "    </tr>\n",
       "    <tr>\n",
       "      <th>152679</th>\n",
       "      <td>aminach</td>\n",
       "      <td>459</td>\n",
       "      <td>NaT</td>\n",
       "      <td>63.947100</td>\n",
       "      <td>NaT</td>\n",
       "    </tr>\n",
       "    <tr>\n",
       "      <th>167015</th>\n",
       "      <td>bituch_leumi</td>\n",
       "      <td>881</td>\n",
       "      <td>NaT</td>\n",
       "      <td>78.800132</td>\n",
       "      <td>NaT</td>\n",
       "    </tr>\n",
       "    <tr>\n",
       "      <th>170553</th>\n",
       "      <td>electricity</td>\n",
       "      <td>142</td>\n",
       "      <td>NaT</td>\n",
       "      <td>335.282134</td>\n",
       "      <td>NaT</td>\n",
       "    </tr>\n",
       "    <tr>\n",
       "      <th>172000</th>\n",
       "      <td>yes</td>\n",
       "      <td>874</td>\n",
       "      <td>NaT</td>\n",
       "      <td>267.693543</td>\n",
       "      <td>NaT</td>\n",
       "    </tr>\n",
       "    <tr>\n",
       "      <th>180778</th>\n",
       "      <td>angel</td>\n",
       "      <td>983</td>\n",
       "      <td>NaT</td>\n",
       "      <td>241.890510</td>\n",
       "      <td>NaT</td>\n",
       "    </tr>\n",
       "    <tr>\n",
       "      <th>183395</th>\n",
       "      <td>aminach</td>\n",
       "      <td>29</td>\n",
       "      <td>NaT</td>\n",
       "      <td>103.267804</td>\n",
       "      <td>NaT</td>\n",
       "    </tr>\n",
       "    <tr>\n",
       "      <th>188488</th>\n",
       "      <td>tara</td>\n",
       "      <td>967</td>\n",
       "      <td>NaT</td>\n",
       "      <td>464.306954</td>\n",
       "      <td>NaT</td>\n",
       "    </tr>\n",
       "    <tr>\n",
       "      <th>202619</th>\n",
       "      <td>osem</td>\n",
       "      <td>172</td>\n",
       "      <td>NaT</td>\n",
       "      <td>343.734406</td>\n",
       "      <td>NaT</td>\n",
       "    </tr>\n",
       "    <tr>\n",
       "      <th>215401</th>\n",
       "      <td>jerusalem_muni</td>\n",
       "      <td>382</td>\n",
       "      <td>NaT</td>\n",
       "      <td>436.787136</td>\n",
       "      <td>NaT</td>\n",
       "    </tr>\n",
       "    <tr>\n",
       "      <th>219151</th>\n",
       "      <td>jerusalem_muni</td>\n",
       "      <td>987</td>\n",
       "      <td>NaT</td>\n",
       "      <td>219.092774</td>\n",
       "      <td>NaT</td>\n",
       "    </tr>\n",
       "    <tr>\n",
       "      <th>233741</th>\n",
       "      <td>intel</td>\n",
       "      <td>333</td>\n",
       "      <td>NaT</td>\n",
       "      <td>163.358318</td>\n",
       "      <td>NaT</td>\n",
       "    </tr>\n",
       "    <tr>\n",
       "      <th>234934</th>\n",
       "      <td>intel</td>\n",
       "      <td>62</td>\n",
       "      <td>NaT</td>\n",
       "      <td>414.567563</td>\n",
       "      <td>NaT</td>\n",
       "    </tr>\n",
       "    <tr>\n",
       "      <th>235465</th>\n",
       "      <td>yes</td>\n",
       "      <td>372</td>\n",
       "      <td>NaT</td>\n",
       "      <td>515.164795</td>\n",
       "      <td>NaT</td>\n",
       "    </tr>\n",
       "    <tr>\n",
       "      <th>237997</th>\n",
       "      <td>electricity</td>\n",
       "      <td>249</td>\n",
       "      <td>NaT</td>\n",
       "      <td>443.003059</td>\n",
       "      <td>NaT</td>\n",
       "    </tr>\n",
       "    <tr>\n",
       "      <th>239653</th>\n",
       "      <td>aminach</td>\n",
       "      <td>687</td>\n",
       "      <td>NaT</td>\n",
       "      <td>610.153330</td>\n",
       "      <td>NaT</td>\n",
       "    </tr>\n",
       "    <tr>\n",
       "      <th>273686</th>\n",
       "      <td>yes</td>\n",
       "      <td>231</td>\n",
       "      <td>NaT</td>\n",
       "      <td>243.788259</td>\n",
       "      <td>NaT</td>\n",
       "    </tr>\n",
       "    <tr>\n",
       "      <th>279635</th>\n",
       "      <td>aminach</td>\n",
       "      <td>484</td>\n",
       "      <td>NaT</td>\n",
       "      <td>274.592819</td>\n",
       "      <td>NaT</td>\n",
       "    </tr>\n",
       "    <tr>\n",
       "      <th>280393</th>\n",
       "      <td>jerusalem_muni</td>\n",
       "      <td>352</td>\n",
       "      <td>NaT</td>\n",
       "      <td>181.548188</td>\n",
       "      <td>NaT</td>\n",
       "    </tr>\n",
       "    <tr>\n",
       "      <th>298371</th>\n",
       "      <td>tnuva</td>\n",
       "      <td>60</td>\n",
       "      <td>NaT</td>\n",
       "      <td>213.991168</td>\n",
       "      <td>NaT</td>\n",
       "    </tr>\n",
       "    <tr>\n",
       "      <th>299059</th>\n",
       "      <td>jerusalem_muni</td>\n",
       "      <td>33</td>\n",
       "      <td>NaT</td>\n",
       "      <td>472.291232</td>\n",
       "      <td>NaT</td>\n",
       "    </tr>\n",
       "    <tr>\n",
       "      <th>301739</th>\n",
       "      <td>tara</td>\n",
       "      <td>964</td>\n",
       "      <td>NaT</td>\n",
       "      <td>144.981437</td>\n",
       "      <td>NaT</td>\n",
       "    </tr>\n",
       "    <tr>\n",
       "      <th>304815</th>\n",
       "      <td>bituch_leumi</td>\n",
       "      <td>350</td>\n",
       "      <td>NaT</td>\n",
       "      <td>384.918408</td>\n",
       "      <td>NaT</td>\n",
       "    </tr>\n",
       "    <tr>\n",
       "      <th>316311</th>\n",
       "      <td>bituch_leumi</td>\n",
       "      <td>288</td>\n",
       "      <td>NaT</td>\n",
       "      <td>138.443206</td>\n",
       "      <td>NaT</td>\n",
       "    </tr>\n",
       "  </tbody>\n",
       "</table>\n",
       "</div>"
      ]
     },
     "execution_count": 67,
     "metadata": {},
     "output_type": "execute_result"
    }
   ],
   "execution_count": 67
  }
 ],
 "metadata": {
  "kernelspec": {
   "display_name": "Python 3",
   "language": "python",
   "name": "python3"
  },
  "language_info": {
   "codemirror_mode": {
    "name": "ipython",
    "version": 2
   },
   "file_extension": ".py",
   "mimetype": "text/x-python",
   "name": "python",
   "nbconvert_exporter": "python",
   "pygments_lexer": "ipython2",
   "version": "2.7.6"
  }
 },
 "nbformat": 4,
 "nbformat_minor": 5
}
