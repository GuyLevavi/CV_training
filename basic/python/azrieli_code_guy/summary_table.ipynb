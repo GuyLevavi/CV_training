{
 "cells": [
  {
   "cell_type": "code",
   "id": "initial_id",
   "metadata": {
    "collapsed": true,
    "ExecuteTime": {
     "end_time": "2025-05-14T13:57:10.437857Z",
     "start_time": "2025-05-14T13:57:08.600358Z"
    }
   },
   "source": [
    "import os\n",
    "import pandas as pd\n",
    "import numpy as np\n",
    "import matplotlib.pyplot as plt\n",
    "from datetime import datetime, timedelta\n",
    "\n",
    "DATA_PATH = r'C:\\Users\\user\\Desktop\\CV Training Guy\\CV_training\\basic\\python\\Basic - Azrieli & Sons data'\n",
    "\n",
    "\n",
    "def calc_nan_df(df):\n",
    "    nan_summary = df.isna().sum()\n",
    "    nan_summary = nan_summary[nan_summary > 0].sort_values(ascending=False)\n",
    "    nan_summary = nan_summary.reset_index()\n",
    "    nan_summary.columns = ['Column', 'NaN Count']\n",
    "    nan_summary['NaN Ratio'] = np.round(nan_summary['NaN Count'] / df.shape[0], 2)\n",
    "    return nan_summary\n",
    "\n",
    "\n",
    "def load_drivers_data():\n",
    "    \"\"\"\n",
    "    Load the old drivers data from CSV files.\n",
    "    \"\"\"\n",
    "    old_drivers_df = pd.read_csv(os.path.join(DATA_PATH, 'Drivers_with_kviut.csv'))\n",
    "    new_drivers_df = pd.read_csv(os.path.join(DATA_PATH, 'new_drivers.csv'))\n",
    "    new_drivers_df['vetek'] = new_drivers_df['vetek'].apply(lambda x: x / 365)\n",
    "    # concat\n",
    "    drivers_df = pd.concat([old_drivers_df, new_drivers_df])\n",
    "    drivers_df = drivers_df.iloc[:, 1:]\n",
    "    drivers_df['gender'].replace(['m', 'male', 'boy'], 'M', inplace=True)\n",
    "    drivers_df['gender'].replace(['girl', 'female', 'woman'], 'F', inplace=True)\n",
    "    drivers_df['gender'].replace(['none', 'unknown'], '?', inplace=True)\n",
    "    drivers_df['gender'].fillna('?', inplace=True)\n",
    "    drivers_df['birthdate'] = drivers_df['birthdate'].astype(\"datetime64[ns]\")\n",
    "    # drivers_df['birthdate'] = pd.to_datetime(drivers_df['birthdate'], errors='coerce')\n",
    "    # TODO: handle NaNs in birthdate, and 1.1.1900\n",
    "    return drivers_df\n",
    "\n",
    "\n",
    "def load_salary_data():\n",
    "    \"\"\"\n",
    "    Load the salary data from CSV files.\n",
    "    \"\"\"\n",
    "    salary_df = pd.read_csv(os.path.join(DATA_PATH, 'taarif.csv'))\n",
    "    salary_df = salary_df.iloc[1:, :]\n",
    "    salary_df.replace({\n",
    "        'telecommunication_ltd': 'hot',\n",
    "        'dbs': 'yes',\n",
    "        'mizranei_kfar_saba': 'aminach'\n",
    "    }, inplace=True)\n",
    "    salary_df['weekend_bonus'] = salary_df['weekend_bonus'] / 100\n",
    "    salary_df['night_bonus'] = salary_df['night_bonus'] / 100\n",
    "    # TODO: fill electricity and bituch leumi\n",
    "    return salary_df\n",
    "\n",
    "\n",
    "def calculate_weekend_and_night_ratios(row):\n",
    "    total_duration = row[\"end_time\"] - row[\"start_time\"]\n",
    "    total_seconds = total_duration.total_seconds()\n",
    "    weekend_seconds = 0\n",
    "    night_seconds = 0\n",
    "\n",
    "    # Iterate through each hour in the date range\n",
    "    current_time = row[\"start_time\"]\n",
    "    while current_time < row[\"end_time\"]:\n",
    "        next_hour = current_time + timedelta(hours=1)\n",
    "\n",
    "        # Check if this hour is a weekend (Friday or Saturday)\n",
    "        if current_time.weekday() in [4, 5]:\n",
    "            weekend_seconds += min((next_hour - current_time).total_seconds(),\n",
    "                                   (row[\"end_time\"] - current_time).total_seconds())\n",
    "\n",
    "        # Check if this hour is during the night (22:00 to 05:00)\n",
    "        if (22 <= current_time.hour or current_time.hour < 5):\n",
    "            night_seconds += min((next_hour - current_time).total_seconds(),\n",
    "                                 (row[\"end_time\"] - current_time).total_seconds())\n",
    "\n",
    "        current_time = next_hour\n",
    "\n",
    "    weekend_ratio = weekend_seconds / total_seconds\n",
    "    night_ratio = night_seconds / total_seconds\n",
    "\n",
    "    return pd.Series([weekend_ratio, night_ratio])\n",
    "\n",
    "\n",
    "def load_trips_data(recalculate=False):\n",
    "    \"\"\"\n",
    "    Load the trips data from CSV files.\n",
    "    \"\"\"\n",
    "    if recalculate:\n",
    "        trips_data_list = os.listdir(os.path.join(DATA_PATH, 'trips_data'))\n",
    "        trips_data_no_dups_list = [trip for trip in trips_data_list if '(2)' not in trip]\n",
    "        trips_dfs = [pd.read_csv(os.path.join(DATA_PATH, 'trips_data', trip)) for trip in trips_data_no_dups_list]\n",
    "        trips_df = pd.concat(trips_dfs, ignore_index=True)\n",
    "        trips_df = trips_df.iloc[:, 1:]\n",
    "        trips_df['start_time'] = trips_df['start_time'].astype(\"datetime64[ns]\")\n",
    "        trips_df['end_time'] = trips_df['end_time'].astype(\"datetime64[ns]\")\n",
    "        trips_df[['weekend_ratio', 'night_ratio']] = trips_df.apply(calculate_weekend_and_night_ratios, axis=1)\n",
    "        trips_df.to_csv(os.path.join(DATA_PATH, 'trips_data', 'trips_data.csv'), index=False)\n",
    "    else:\n",
    "        trips_df = pd.read_csv(os.path.join(DATA_PATH, 'trips_data', 'trips_data.csv'))\n",
    "        trips_df['start_time'] = trips_df['start_time'].astype(\"datetime64[ns]\")\n",
    "        trips_df['end_time'] = trips_df['end_time'].astype(\"datetime64[ns]\")\n",
    "        trips_df['start_month'] = trips_df['start_time'].dt.month\n",
    "        trips_df['start_month_year'] = trips_df['start_time'].dt.to_period('M')\n",
    "        # trips_df['end_month'] = trips_df['end_time'].dt.month\n",
    "\n",
    "    return trips_df\n",
    "\n",
    "\n",
    "if __name__ == '__main__':\n",
    "    drivers_df = load_drivers_data()\n",
    "    salary_df = load_salary_data()\n",
    "    trips_df = load_trips_data()\n"
   ],
   "outputs": [
    {
     "name": "stderr",
     "output_type": "stream",
     "text": [
      "C:\\Users\\user\\AppData\\Local\\Temp\\ipykernel_16820\\3165400065.py:29: FutureWarning: A value is trying to be set on a copy of a DataFrame or Series through chained assignment using an inplace method.\n",
      "The behavior will change in pandas 3.0. This inplace method will never work because the intermediate object on which we are setting values always behaves as a copy.\n",
      "\n",
      "For example, when doing 'df[col].method(value, inplace=True)', try using 'df.method({col: value}, inplace=True)' or df[col] = df[col].method(value) instead, to perform the operation inplace on the original object.\n",
      "\n",
      "\n",
      "  drivers_df['gender'].replace(['m', 'male', 'boy'], 'M', inplace=True)\n"
     ]
    }
   ],
   "execution_count": 55
  },
  {
   "metadata": {
    "ExecuteTime": {
     "end_time": "2025-05-14T13:57:51.104878Z",
     "start_time": "2025-05-14T13:57:51.053245Z"
    }
   },
   "cell_type": "code",
   "source": [
    "trips_df['year'] = trips_df['start_time'].dt.to_period('Y')\n",
    "pd.unique(trips_df['year'])"
   ],
   "id": "603005e27847a895",
   "outputs": [
    {
     "data": {
      "text/plain": [
       "<PeriodArray>\n",
       "['2015', 'NaT']\n",
       "Length: 2, dtype: period[Y-DEC]"
      ]
     },
     "execution_count": 56,
     "metadata": {},
     "output_type": "execute_result"
    }
   ],
   "execution_count": 56
  },
  {
   "metadata": {
    "ExecuteTime": {
     "end_time": "2025-05-14T12:58:48.419185Z",
     "start_time": "2025-05-14T12:58:48.413348Z"
    }
   },
   "cell_type": "code",
   "source": [
    "def compute_salary(km, base, extra,\n",
    "                   night_multiplier, night_ratio,\n",
    "                   weekend_multiplier, week_ratio):\n",
    "    # TODO: is extra alone or added to base?\n",
    "    return (min(km, 200) * base + max(km - 200, 0) * extra) * (\n",
    "            1 + night_multiplier * night_ratio + weekend_multiplier * week_ratio)\n"
   ],
   "id": "9b10c4da167ca005",
   "outputs": [],
   "execution_count": 11
  },
  {
   "metadata": {
    "ExecuteTime": {
     "end_time": "2025-05-14T13:15:56.922138Z",
     "start_time": "2025-05-14T13:15:56.807844Z"
    }
   },
   "cell_type": "code",
   "source": [
    "trips_salary_df = pd.merge(trips_df, salary_df, on='customer')\n",
    "trips_salary_df.dropna(inplace=True)"
   ],
   "id": "74fc26850b9b3b49",
   "outputs": [],
   "execution_count": 27
  },
  {
   "metadata": {
    "ExecuteTime": {
     "end_time": "2025-05-14T13:16:03.189370Z",
     "start_time": "2025-05-14T13:15:57.783835Z"
    }
   },
   "cell_type": "code",
   "source": [
    "trips_salary_df['salary'] = trips_salary_df.apply(\n",
    "    lambda row: compute_salary(row['km'], row['basic_taarif'], row['extra_milage'],\n",
    "                               row['night_bonus'], row['night_ratio'],\n",
    "                               row['weekend_bonus'], row['weekend_ratio']), axis=1)"
   ],
   "id": "67a1d59bf26678d4",
   "outputs": [],
   "execution_count": 28
  },
  {
   "metadata": {
    "ExecuteTime": {
     "end_time": "2025-05-14T13:32:28.162087Z",
     "start_time": "2025-05-14T13:32:28.108534Z"
    }
   },
   "cell_type": "code",
   "source": [
    "driver_salary_df = trips_salary_df[['driver_id', 'salary', 'start_month_year']].groupby(\n",
    "    ['driver_id', 'start_month_year']).agg(\n",
    "    {'salary': ['sum']}).reset_index().rename(\n",
    "    columns={'sum': 'total_salary'})"
   ],
   "id": "44fa5a424a6d4fad",
   "outputs": [],
   "execution_count": 51
  },
  {
   "metadata": {
    "ExecuteTime": {
     "end_time": "2025-05-14T13:33:19.839253Z",
     "start_time": "2025-05-14T13:33:19.831444Z"
    }
   },
   "cell_type": "code",
   "source": "driver_salary_df.index.nlevels",
   "id": "d3d5cd08cdbcbe34",
   "outputs": [
    {
     "data": {
      "text/plain": [
       "1"
      ]
     },
     "execution_count": 53,
     "metadata": {},
     "output_type": "execute_result"
    }
   ],
   "execution_count": 53
  },
  {
   "metadata": {
    "ExecuteTime": {
     "end_time": "2025-05-14T13:33:33.234990Z",
     "start_time": "2025-05-14T13:33:33.158469Z"
    }
   },
   "cell_type": "code",
   "source": [
    "summary_df = pd.merge(drivers_df, driver_salary_df, on='driver_id')\n",
    "# summary_df.dropna(inplace=True)\n",
    "summary_df"
   ],
   "id": "eaedc041a85b0f66",
   "outputs": [
    {
     "ename": "MergeError",
     "evalue": "Not allowed to merge between different levels. (1 levels on the left, 2 on the right)",
     "output_type": "error",
     "traceback": [
      "\u001B[31m---------------------------------------------------------------------------\u001B[39m",
      "\u001B[31mMergeError\u001B[39m                                Traceback (most recent call last)",
      "\u001B[36mCell\u001B[39m\u001B[36m \u001B[39m\u001B[32mIn[54]\u001B[39m\u001B[32m, line 1\u001B[39m\n\u001B[32m----> \u001B[39m\u001B[32m1\u001B[39m summary_df = \u001B[43mpd\u001B[49m\u001B[43m.\u001B[49m\u001B[43mmerge\u001B[49m\u001B[43m(\u001B[49m\u001B[43mdrivers_df\u001B[49m\u001B[43m,\u001B[49m\u001B[43m \u001B[49m\u001B[43mdriver_salary_df\u001B[49m\u001B[43m,\u001B[49m\u001B[43m \u001B[49m\u001B[43mon\u001B[49m\u001B[43m=\u001B[49m\u001B[33;43m'\u001B[39;49m\u001B[33;43mdriver_id\u001B[39;49m\u001B[33;43m'\u001B[39;49m\u001B[43m)\u001B[49m\n\u001B[32m      2\u001B[39m \u001B[38;5;66;03m# summary_df.dropna(inplace=True)\u001B[39;00m\n\u001B[32m      3\u001B[39m summary_df\n",
      "\u001B[36mFile \u001B[39m\u001B[32m~\\Desktop\\CV Training Guy\\CV_training\\.venv\\Lib\\site-packages\\pandas\\core\\reshape\\merge.py:170\u001B[39m, in \u001B[36mmerge\u001B[39m\u001B[34m(left, right, how, on, left_on, right_on, left_index, right_index, sort, suffixes, copy, indicator, validate)\u001B[39m\n\u001B[32m    155\u001B[39m     \u001B[38;5;28;01mreturn\u001B[39;00m _cross_merge(\n\u001B[32m    156\u001B[39m         left_df,\n\u001B[32m    157\u001B[39m         right_df,\n\u001B[32m   (...)\u001B[39m\u001B[32m    167\u001B[39m         copy=copy,\n\u001B[32m    168\u001B[39m     )\n\u001B[32m    169\u001B[39m \u001B[38;5;28;01melse\u001B[39;00m:\n\u001B[32m--> \u001B[39m\u001B[32m170\u001B[39m     op = \u001B[43m_MergeOperation\u001B[49m\u001B[43m(\u001B[49m\n\u001B[32m    171\u001B[39m \u001B[43m        \u001B[49m\u001B[43mleft_df\u001B[49m\u001B[43m,\u001B[49m\n\u001B[32m    172\u001B[39m \u001B[43m        \u001B[49m\u001B[43mright_df\u001B[49m\u001B[43m,\u001B[49m\n\u001B[32m    173\u001B[39m \u001B[43m        \u001B[49m\u001B[43mhow\u001B[49m\u001B[43m=\u001B[49m\u001B[43mhow\u001B[49m\u001B[43m,\u001B[49m\n\u001B[32m    174\u001B[39m \u001B[43m        \u001B[49m\u001B[43mon\u001B[49m\u001B[43m=\u001B[49m\u001B[43mon\u001B[49m\u001B[43m,\u001B[49m\n\u001B[32m    175\u001B[39m \u001B[43m        \u001B[49m\u001B[43mleft_on\u001B[49m\u001B[43m=\u001B[49m\u001B[43mleft_on\u001B[49m\u001B[43m,\u001B[49m\n\u001B[32m    176\u001B[39m \u001B[43m        \u001B[49m\u001B[43mright_on\u001B[49m\u001B[43m=\u001B[49m\u001B[43mright_on\u001B[49m\u001B[43m,\u001B[49m\n\u001B[32m    177\u001B[39m \u001B[43m        \u001B[49m\u001B[43mleft_index\u001B[49m\u001B[43m=\u001B[49m\u001B[43mleft_index\u001B[49m\u001B[43m,\u001B[49m\n\u001B[32m    178\u001B[39m \u001B[43m        \u001B[49m\u001B[43mright_index\u001B[49m\u001B[43m=\u001B[49m\u001B[43mright_index\u001B[49m\u001B[43m,\u001B[49m\n\u001B[32m    179\u001B[39m \u001B[43m        \u001B[49m\u001B[43msort\u001B[49m\u001B[43m=\u001B[49m\u001B[43msort\u001B[49m\u001B[43m,\u001B[49m\n\u001B[32m    180\u001B[39m \u001B[43m        \u001B[49m\u001B[43msuffixes\u001B[49m\u001B[43m=\u001B[49m\u001B[43msuffixes\u001B[49m\u001B[43m,\u001B[49m\n\u001B[32m    181\u001B[39m \u001B[43m        \u001B[49m\u001B[43mindicator\u001B[49m\u001B[43m=\u001B[49m\u001B[43mindicator\u001B[49m\u001B[43m,\u001B[49m\n\u001B[32m    182\u001B[39m \u001B[43m        \u001B[49m\u001B[43mvalidate\u001B[49m\u001B[43m=\u001B[49m\u001B[43mvalidate\u001B[49m\u001B[43m,\u001B[49m\n\u001B[32m    183\u001B[39m \u001B[43m    \u001B[49m\u001B[43m)\u001B[49m\n\u001B[32m    184\u001B[39m     \u001B[38;5;28;01mreturn\u001B[39;00m op.get_result(copy=copy)\n",
      "\u001B[36mFile \u001B[39m\u001B[32m~\\Desktop\\CV Training Guy\\CV_training\\.venv\\Lib\\site-packages\\pandas\\core\\reshape\\merge.py:784\u001B[39m, in \u001B[36m_MergeOperation.__init__\u001B[39m\u001B[34m(self, left, right, how, on, left_on, right_on, left_index, right_index, sort, suffixes, indicator, validate)\u001B[39m\n\u001B[32m    778\u001B[39m \u001B[38;5;28;01mif\u001B[39;00m _left.columns.nlevels != _right.columns.nlevels:\n\u001B[32m    779\u001B[39m     msg = (\n\u001B[32m    780\u001B[39m         \u001B[33m\"\u001B[39m\u001B[33mNot allowed to merge between different levels. \u001B[39m\u001B[33m\"\u001B[39m\n\u001B[32m    781\u001B[39m         \u001B[33mf\u001B[39m\u001B[33m\"\u001B[39m\u001B[33m(\u001B[39m\u001B[38;5;132;01m{\u001B[39;00m_left.columns.nlevels\u001B[38;5;132;01m}\u001B[39;00m\u001B[33m levels on the left, \u001B[39m\u001B[33m\"\u001B[39m\n\u001B[32m    782\u001B[39m         \u001B[33mf\u001B[39m\u001B[33m\"\u001B[39m\u001B[38;5;132;01m{\u001B[39;00m_right.columns.nlevels\u001B[38;5;132;01m}\u001B[39;00m\u001B[33m on the right)\u001B[39m\u001B[33m\"\u001B[39m\n\u001B[32m    783\u001B[39m     )\n\u001B[32m--> \u001B[39m\u001B[32m784\u001B[39m     \u001B[38;5;28;01mraise\u001B[39;00m MergeError(msg)\n\u001B[32m    786\u001B[39m \u001B[38;5;28mself\u001B[39m.left_on, \u001B[38;5;28mself\u001B[39m.right_on = \u001B[38;5;28mself\u001B[39m._validate_left_right_on(left_on, right_on)\n\u001B[32m    788\u001B[39m (\n\u001B[32m    789\u001B[39m     \u001B[38;5;28mself\u001B[39m.left_join_keys,\n\u001B[32m    790\u001B[39m     \u001B[38;5;28mself\u001B[39m.right_join_keys,\n\u001B[32m   (...)\u001B[39m\u001B[32m    793\u001B[39m     right_drop,\n\u001B[32m    794\u001B[39m ) = \u001B[38;5;28mself\u001B[39m._get_merge_keys()\n",
      "\u001B[31mMergeError\u001B[39m: Not allowed to merge between different levels. (1 levels on the left, 2 on the right)"
     ]
    }
   ],
   "execution_count": 54
  },
  {
   "metadata": {},
   "cell_type": "code",
   "outputs": [],
   "execution_count": null,
   "source": "",
   "id": "eb163fe5a004459b"
  }
 ],
 "metadata": {
  "kernelspec": {
   "display_name": "Python 3",
   "language": "python",
   "name": "python3"
  },
  "language_info": {
   "codemirror_mode": {
    "name": "ipython",
    "version": 2
   },
   "file_extension": ".py",
   "mimetype": "text/x-python",
   "name": "python",
   "nbconvert_exporter": "python",
   "pygments_lexer": "ipython2",
   "version": "2.7.6"
  }
 },
 "nbformat": 4,
 "nbformat_minor": 5
}
